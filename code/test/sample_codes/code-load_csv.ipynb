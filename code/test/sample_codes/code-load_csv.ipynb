{
 "cells": [
  {
   "cell_type": "code",
   "execution_count": 1,
   "metadata": {},
   "outputs": [
    {
     "data": {
      "text/plain": [
       "<pyspark.conf.SparkConf at 0x7fde3af0e8a0>"
      ]
     },
     "execution_count": 1,
     "metadata": {},
     "output_type": "execute_result"
    }
   ],
   "source": [
    "from pyspark.sql import SparkSession,functions as F\n",
    "from pyspark import StorageLevel\n",
    "from pyspark import SparkConf\n",
    "from pyspark import SparkConf\n",
    "import sys \n",
    "sys.path.append(\"/home/john_user/pyspark_learning/code/\")\n",
    "from utility.utils import return_files_list as rfl\n",
    "\n",
    "conf = SparkConf()\n",
    "\n",
    "conf.set(\"spark.app.name\", \"ComprehensiveSparkJob\") \n",
    "conf.set(\"spark.master\", \"local[*]\")                \n",
    "conf.set(\"spark.driver.memory\", \"4g\")      \n",
    "conf.set(\"spark.driver.cores\", \"1\")                 \n",
    "conf.set(\"spark.ui.port\", \"4040\")                \n",
    "\n",
    "# Executor Settings\n",
    "conf.set(\"spark.executor.memory\", \"2g\")      \n",
    "conf.set(\"spark.executor.cores\", \"2\")               \n",
    "conf.set(\"spark.executor.instances\", \"3\")         \n",
    "\n",
    "\n",
    "conf.set(\"spark.default.parallelism\", \"6\")         \n",
    "conf.set(\"spark.sql.shuffle.partitions\", \"6\")       \n",
    "conf.set(\"spark.task.cpus\", \"1\")  \n",
    "\n",
    "# Data Handling Settings\n",
    "conf.set(\"spark.memory.fraction\", \"0.8\")            \n",
    "conf.set(\"spark.memory.storageFraction\", \"0.5\")     \n",
    "\n",
    "# Serialization Settings\n",
    "conf.set(\"spark.serializer\", \"org.apache.spark.serializer.KryoSerializer\")  \n",
    "conf.set(\"spark.kryo.registrationRequired\", \"true\")  \n",
    "conf.set(\"spark.kryo.classesToRegister\", \"org.apache.spark.sql.Row\")  \n",
    "\n",
    "# Debugging and Logging\n",
    "conf.set(\"spark.eventLog.enabled\", \"true\")           \n",
    "conf.set(\"spark.eventLog.dir\", \"/root/spark_log/spark-events/\")  \n",
    "conf.set(\"spark.history.fs.logDirectory\", \"/root/spark_log/spark-history/\")  \n"
   ]
  },
  {
   "cell_type": "code",
   "execution_count": 2,
   "metadata": {},
   "outputs": [
    {
     "name": "stderr",
     "output_type": "stream",
     "text": [
      "Setting default log level to \"WARN\".\n",
      "To adjust logging level use sc.setLogLevel(newLevel). For SparkR, use setLogLevel(newLevel).\n",
      "25/02/01 05:32:27 WARN NativeCodeLoader: Unable to load native-hadoop library for your platform... using builtin-java classes where applicable\n"
     ]
    }
   ],
   "source": [
    "spark = SparkSession.builder.config(conf=conf).getOrCreate()"
   ]
  },
  {
   "cell_type": "code",
   "execution_count": null,
   "metadata": {},
   "outputs": [],
   "source": [
    "input_json_file_path = \"/root/docker_dataset/h1b_data/\"  \n",
    "file_pattern = r'.*\\.(csv|xlsx)$'\n",
    "input_file_list  = rfl(input_json_file_path,file_pattern)\n",
    "# parquet_file_path = \"/root/docker_dataset/json_splits/table_example_1.parquet\"\n",
    "\n"
   ]
  },
  {
   "cell_type": "code",
   "execution_count": 4,
   "metadata": {},
   "outputs": [],
   "source": [
    "\n",
    "def func_cache_dft_data(dataframe) :\n",
    "    dataframe.persist(StorageLevel.MEMORY_AND_DISK)\n",
    "\n",
    "def func_json_dataframe (input_file:str) :\n",
    "    return  spark.read.option(\"multiline\", \"true\").json(input_file)\n",
    "\n",
    "def func_repartion_dataframe(dataframe, repartion_count) :\n",
    "    return dataframe.repartition(repartion_count)\n",
    " \n",
    "\n",
    "def func_explode_based_on_one_key (input_dataframe,explode_key:str , alias_of_column :str)  :\n",
    "    return  input_dataframe.select(F.explode(F.col(explode_key)).alias(alias_of_column))\n",
    "\n",
    "def func_explode_based_on_depper_root_key (input_dataframe,explode_key:list  , drop_column :str)  :\n",
    "    \"\"\" Always try to assemeble  he json key  based on the root level  in heirarchial order like root -->values-->payload-->commits then the explode_key   value should be [root,values,payload,commits]\"\"\"\n",
    "    column_level_analysis = (\".\").join(explode_key)\n",
    "    return  input_dataframe.select(f\"{explode_key[0]}.*\",F.explode_outer(F.col(column_level_analysis)).alias(column_level_analysis.replace(\".\",\"_\"))).drop(drop_column)\n",
    "\n",
    "\n",
    "def func_get_rdd_num_partitions( dataframe) :\n",
    "    return dataframe.rdd.getNumPartitions()\n",
    "\n",
    "def func_write_data_to_parquet ( file_path, dataframe,write_mode) :\n",
    "    dataframe.write.parquet(file_path,mode=write_mode)\n",
    "\n",
    "\n",
    "def func_read_parquet_file(file_path) :\n",
    "    return spark.read.parquet(file_path)\n",
    "\n",
    "def func_stop_spark () :\n",
    "      spark.stop()\n",
    "\n",
    "\n",
    "def func_remane_column_names (dataframe) :\n",
    "    column_list = [F.col(c).alias(c.replace('.', '_')) for c in dataframe.columns]\n",
    "    for   values in column_list:\n",
    "        print(values)\n",
    "    return  dataframe.select([F.col(c).alias(c.replace('.', '_')) for c in dataframe.columns])\n",
    "\n",
    "\n",
    "def  func_limit_rows_dataframe (dataframe, limit_row_count) :\n",
    "    return dataframe. limit(limit_row_count)\n",
    "\n",
    "def  finc_count_dft_rows(dataframe):\n",
    "     return dataframe.count()\n",
    "\n"
   ]
  },
  {
   "cell_type": "code",
   "execution_count": 5,
   "metadata": {},
   "outputs": [],
   "source": [
    "\n",
    "def func_main () :\n",
    "     processed_dft_row_count= 0 \n",
    "     for file_list in input_file_list :\n",
    "         big_dpart_dft = func_json_dataframe (input_json_file_path+file_list)\n",
    "         big_dpart_dft = func_repartion_dataframe(big_dpart_dft,100)\n",
    "         big_dpart_dft_json_normalised = func_explode_based_on_one_key (big_dpart_dft,\"values\",\"table_example\")\n",
    "         big_dpart_dft_json_normalised = func_explode_based_on_depper_root_key(big_dpart_dft_json_normalised,[\"table_example\",\"entities\"],\"entities\")\n",
    "         func_cache_dft_data(big_dpart_dft_json_normalised)\n",
    "         print(func_get_rdd_num_partitions(big_dpart_dft_json_normalised))\n",
    "         big_dpart_dft_json_norm_renamed  = func_remane_column_names(big_dpart_dft_json_normalised)\n",
    "         processed_dft_row_count += finc_count_dft_rows(big_dpart_dft_json_norm_renamed)\n",
    "         func_write_data_to_parquet(parquet_file_path,big_dpart_dft_json_norm_renamed,\"append\")\n",
    "     return processed_dft_row_count"
   ]
  },
  {
   "cell_type": "code",
   "execution_count": null,
   "metadata": {},
   "outputs": [],
   "source": [
    "try :\n",
    "    # json_input_row_count  = func_main () \n",
    "    big_dpart_parquet = func_read_parquet_file(parquet_file_path)\n",
    "    # parquet_row_count  = finc_count_dft_rows(big_dpart_parquet)\n",
    "    # big_dpart_parquet = func_limit_rows_dataframe(big_dpart_parquet,100)\n",
    "    big_dpart_parquet.show()\n",
    "except  Exception as error :\n",
    "    spark.stop()\n",
    "    raise error "
   ]
  },
  {
   "cell_type": "code",
   "execution_count": null,
   "metadata": {},
   "outputs": [],
   "source": [
    "db_url = \"jdbc:postgresql://host.docker.internal:5432/crime_data_la\"\n",
    "db_properties = {\n",
    "    \"user\": \"john_user\",\n",
    "    \"password\": \"abc@12345\"\n",
    "}\n",
    "\n",
    "table_name = \"crime_data.transactions_data\"\n",
    "df_table = spark.read.jdbc(url=db_url, table=table_name, properties=db_properties)\n",
    "df_table.show()\n"
   ]
  },
  {
   "cell_type": "code",
   "execution_count": 18,
   "metadata": {},
   "outputs": [],
   "source": [
    "data_type  = \"\"\"\n",
    "cast(CASE_NUMBER as varchar(450) ) as CASE_NUMBER, cast(CASE_STATUS as varchar(100)) as CASE_STATUS, cast(RECEIVED_DATE as date ) as RECEIVED_DATE, cast(DECISION_DATE as date ) as DECISION_DATE, cast(ORIGINAL_CERT_DATE as date  ) as ORIGINAL_CERT_DATE, cast(VISA_CLASS as  varchar(50) ) as VISA_CLASS, cast(JOB_TITLE as  varchar(850)) as JOB_TITLE, cast(SOC_CODE as varchar(100) ) as SOC_CODE, cast(SOC_TITLE as varchar(850) ) as SOC_TITLE, cast(FULL_TIME_POSITION as varchar(1) ) as FULL_TIME_POSITION, cast(BEGIN_DATE as  date ) as BEGIN_DATE, cast(END_DATE as date  ) as END_DATE, cast(TOTAL_WORKER_POSITIONS as integer   ) as TOTAL_WORKER_POSITIONS, cast(NEW_EMPLOYMENT as  integer) as NEW_EMPLOYMENT, cast(CONTINUED_EMPLOYMENT as integer ) as CONTINUED_EMPLOYMENT, cast(CHANGE_PREVIOUS_EMPLOYMENT as integer ) as CHANGE_PREVIOUS_EMPLOYMENT, cast(NEW_CONCURRENT_EMPLOYMENT as integer ) as NEW_CONCURRENT_EMPLOYMENT, cast(CHANGE_EMPLOYER as  integer) as CHANGE_EMPLOYER, cast(AMENDED_PETITION as  integer) as AMENDED_PETITION, cast(EMPLOYER_NAME as  varchar(850) ) as EMPLOYER_NAME, cast(TRADE_NAME_DBA as string ) as TRADE_NAME_DBA, cast(EMPLOYER_ADDRESS1 as string ) as EMPLOYER_ADDRESS1, cast(EMPLOYER_ADDRESS2 as string ) as EMPLOYER_ADDRESS2, cast(EMPLOYER_CITY as  string) as EMPLOYER_CITY, cast(EMPLOYER_STATE as string ) as EMPLOYER_STATE, cast(EMPLOYER_POSTAL_CODE as  string) as EMPLOYER_POSTAL_CODE, cast(EMPLOYER_COUNTRY as string ) as EMPLOYER_COUNTRY, cast(EMPLOYER_PROVINCE as string ) as EMPLOYER_PROVINCE, cast(EMPLOYER_PHONE as string ) as EMPLOYER_PHONE, cast(EMPLOYER_PHONE_EXT as  int) as EMPLOYER_PHONE_EXT, cast(NAICS_CODE as int  ) as NAICS_CODE, cast(EMPLOYER_POC_LAST_NAME as  string) as EMPLOYER_POC_LAST_NAME, cast(EMPLOYER_POC_FIRST_NAME as  string) as EMPLOYER_POC_FIRST_NAME, cast(EMPLOYER_POC_MIDDLE_NAME as string ) as EMPLOYER_POC_MIDDLE_NAME, cast(EMPLOYER_POC_JOB_TITLE as string ) as EMPLOYER_POC_JOB_TITLE, cast(EMPLOYER_POC_ADDRESS1 as string ) as EMPLOYER_POC_ADDRESS1, cast(EMPLOYER_POC_ADDRESS2 as string) as EMPLOYER_POC_ADDRESS2, cast(EMPLOYER_POC_CITY as string ) as EMPLOYER_POC_CITY, cast(EMPLOYER_POC_STATE as  string) as EMPLOYER_POC_STATE, cast(EMPLOYER_POC_POSTAL_CODE as string ) as EMPLOYER_POC_POSTAL_CODE, cast(EMPLOYER_POC_COUNTRY as  string) as EMPLOYER_POC_COUNTRY, cast(EMPLOYER_POC_PROVINCE as string ) as EMPLOYER_POC_PROVINCE, cast(EMPLOYER_POC_PHONE as  string) as EMPLOYER_POC_PHONE, cast(EMPLOYER_POC_PHONE_EXT as  integer) as EMPLOYER_POC_PHONE_EXT, cast(EMPLOYER_POC_EMAIL as string ) as EMPLOYER_POC_EMAIL, cast(AGENT_REPRESENTING_EMPLOYER as string ) as AGENT_REPRESENTING_EMPLOYER, cast(AGENT_ATTORNEY_LAST_NAME as string ) as AGENT_ATTORNEY_LAST_NAME, cast(AGENT_ATTORNEY_FIRST_NAME as string ) as AGENT_ATTORNEY_FIRST_NAME, cast(AGENT_ATTORNEY_MIDDLE_NAME as string ) as AGENT_ATTORNEY_MIDDLE_NAME, cast(AGENT_ATTORNEY_ADDRESS1 as  string) as AGENT_ATTORNEY_ADDRESS1, cast(AGENT_ATTORNEY_ADDRESS2 as string ) as AGENT_ATTORNEY_ADDRESS2, cast(AGENT_ATTORNEY_CITY as string ) as AGENT_ATTORNEY_CITY, cast(AGENT_ATTORNEY_STATE as string ) as AGENT_ATTORNEY_STATE, cast(AGENT_ATTORNEY_POSTAL_CODE as  string) as AGENT_ATTORNEY_POSTAL_CODE, cast(AGENT_ATTORNEY_COUNTRY as string ) as AGENT_ATTORNEY_COUNTRY, cast(AGENT_ATTORNEY_PROVINCE as  string) as AGENT_ATTORNEY_PROVINCE, cast(AGENT_ATTORNEY_PHONE as  string) as AGENT_ATTORNEY_PHONE, cast(AGENT_ATTORNEY_PHONE_EXT as integer ) as AGENT_ATTORNEY_PHONE_EXT, cast(AGENT_ATTORNEY_EMAIL_ADDRESS as string ) as AGENT_ATTORNEY_EMAIL_ADDRESS, cast(LAWFIRM_NAME_BUSINESS_NAME as string ) as LAWFIRM_NAME_BUSINESS_NAME, cast(STATE_OF_HIGHEST_COURT as string ) as STATE_OF_HIGHEST_COURT, cast(NAME_OF_HIGHEST_STATE_COURT as  string) as NAME_OF_HIGHEST_STATE_COURT, cast(WORKSITE_WORKERS as string ) as WORKSITE_WORKERS, cast(SECONDARY_ENTITY as string ) as SECONDARY_ENTITY, cast(SECONDARY_ENTITY_BUSINESS_NAME as string  ) as SECONDARY_ENTITY_BUSINESS_NAME, cast(WORKSITE_ADDRESS1 as string ) as WORKSITE_ADDRESS1, cast(WORKSITE_ADDRESS2 as string ) as WORKSITE_ADDRESS2, cast(WORKSITE_CITY as  string) as WORKSITE_CITY, cast(WORKSITE_COUNTY as  string) as WORKSITE_COUNTY, cast(WORKSITE_STATE as  string) as WORKSITE_STATE, cast(WORKSITE_POSTAL_CODE as string ) as WORKSITE_POSTAL_CODE, cast(WAGE_RATE_OF_PAY_FROM as numeric  ) as WAGE_RATE_OF_PAY_FROM, cast(WAGE_RATE_OF_PAY_TO as numeric ) as WAGE_RATE_OF_PAY_TO, cast(WAGE_UNIT_OF_PAY as string ) as WAGE_UNIT_OF_PAY, cast(PREVAILING_WAGE as numeric ) as PREVAILING_WAGE, cast(PW_UNIT_OF_PAY as string ) as PW_UNIT_OF_PAY, cast(PW_TRACKING_NUMBER as string ) as PW_TRACKING_NUMBER, cast(PW_WAGE_LEVEL as  string) as PW_WAGE_LEVEL, cast(PW_OES_YEAR as int ) as PW_OES_YEAR, cast(PW_OTHER_SOURCE as  string) as PW_OTHER_SOURCE, cast(PW_OTHER_YEAR as int  ) as PW_OTHER_YEAR, cast(PW_SURVEY_PUBLISHER as string ) as PW_SURVEY_PUBLISHER, cast(PW_SURVEY_NAME as string ) as PW_SURVEY_NAME, cast(TOTAL_WORKSITE_LOCATIONS as string ) as TOTAL_WORKSITE_LOCATIONS, cast(AGREE_TO_LC_STATEMENT as string ) as AGREE_TO_LC_STATEMENT, cast(H_1B_DEPENDENT as string ) as H_1B_DEPENDENT, cast(WILLFUL_VIOLATOR as  string) as WILLFUL_VIOLATOR, cast(SUPPORT_H1B as string ) as SUPPORT_H1B, cast(STATUTORY_BASIS as string ) as STATUTORY_BASIS, cast(APPENDIX_A_ATTACHED as  string) as APPENDIX_A_ATTACHED, cast(PUBLIC_DISCLOSURE as string ) as PUBLIC_DISCLOSURE, cast(PREPARER_LAST_NAME as string ) as PREPARER_LAST_NAME, cast(PREPARER_FIRST_NAME as string ) as PREPARER_FIRST_NAME, cast(PREPARER_MIDDLE_INITIAL as string ) as PREPARER_MIDDLE_INITIAL, cast(PREPARER_BUSINESS_NAME as string ) as PREPARER_BUSINESS_NAME, cast(PREPARER_EMAIL as string ) as  PREPARER_EMAIL \"\"\""
   ]
  },
  {
   "cell_type": "code",
   "execution_count": 19,
   "metadata": {},
   "outputs": [
    {
     "name": "stdout",
     "output_type": "stream",
     "text": [
      "['cast(CASE_NUMBER as varchar(450) ) as CASE_NUMBER', 'cast(CASE_STATUS as varchar(100)) as CASE_STATUS', 'cast(RECEIVED_DATE as date ) as RECEIVED_DATE', 'cast(DECISION_DATE as date ) as DECISION_DATE', 'cast(ORIGINAL_CERT_DATE as date  ) as ORIGINAL_CERT_DATE', 'cast(VISA_CLASS as  varchar(50) ) as VISA_CLASS', 'cast(JOB_TITLE as  varchar(850)) as JOB_TITLE', 'cast(SOC_CODE as varchar(100) ) as SOC_CODE', 'cast(SOC_TITLE as varchar(850) ) as SOC_TITLE', 'cast(FULL_TIME_POSITION as varchar(1) ) as FULL_TIME_POSITION', 'cast(BEGIN_DATE as  date ) as BEGIN_DATE', 'cast(END_DATE as date  ) as END_DATE', 'cast(TOTAL_WORKER_POSITIONS as integer   ) as TOTAL_WORKER_POSITIONS', 'cast(NEW_EMPLOYMENT as  integer) as NEW_EMPLOYMENT', 'cast(CONTINUED_EMPLOYMENT as integer ) as CONTINUED_EMPLOYMENT', 'cast(CHANGE_PREVIOUS_EMPLOYMENT as integer ) as CHANGE_PREVIOUS_EMPLOYMENT', 'cast(NEW_CONCURRENT_EMPLOYMENT as integer ) as NEW_CONCURRENT_EMPLOYMENT', 'cast(CHANGE_EMPLOYER as  integer) as CHANGE_EMPLOYER', 'cast(AMENDED_PETITION as  integer) as AMENDED_PETITION', 'cast(EMPLOYER_NAME as  varchar(850) ) as EMPLOYER_NAME', 'cast(TRADE_NAME_DBA as string ) as TRADE_NAME_DBA', 'cast(EMPLOYER_ADDRESS1 as string ) as EMPLOYER_ADDRESS1', 'cast(EMPLOYER_ADDRESS2 as string ) as EMPLOYER_ADDRESS2', 'cast(EMPLOYER_CITY as  string) as EMPLOYER_CITY', 'cast(EMPLOYER_STATE as string ) as EMPLOYER_STATE', 'cast(EMPLOYER_POSTAL_CODE as  string) as EMPLOYER_POSTAL_CODE', 'cast(EMPLOYER_COUNTRY as string ) as EMPLOYER_COUNTRY', 'cast(EMPLOYER_PROVINCE as string ) as EMPLOYER_PROVINCE', 'cast(EMPLOYER_PHONE as string ) as EMPLOYER_PHONE', 'cast(EMPLOYER_PHONE_EXT as  int) as EMPLOYER_PHONE_EXT', 'cast(NAICS_CODE as int  ) as NAICS_CODE', 'cast(EMPLOYER_POC_LAST_NAME as  string) as EMPLOYER_POC_LAST_NAME', 'cast(EMPLOYER_POC_FIRST_NAME as  string) as EMPLOYER_POC_FIRST_NAME', 'cast(EMPLOYER_POC_MIDDLE_NAME as string ) as EMPLOYER_POC_MIDDLE_NAME', 'cast(EMPLOYER_POC_JOB_TITLE as string ) as EMPLOYER_POC_JOB_TITLE', 'cast(EMPLOYER_POC_ADDRESS1 as string ) as EMPLOYER_POC_ADDRESS1', 'cast(EMPLOYER_POC_ADDRESS2 as string) as EMPLOYER_POC_ADDRESS2', 'cast(EMPLOYER_POC_CITY as string ) as EMPLOYER_POC_CITY', 'cast(EMPLOYER_POC_STATE as  string) as EMPLOYER_POC_STATE', 'cast(EMPLOYER_POC_POSTAL_CODE as string ) as EMPLOYER_POC_POSTAL_CODE', 'cast(EMPLOYER_POC_COUNTRY as  string) as EMPLOYER_POC_COUNTRY', 'cast(EMPLOYER_POC_PROVINCE as string ) as EMPLOYER_POC_PROVINCE', 'cast(EMPLOYER_POC_PHONE as  string) as EMPLOYER_POC_PHONE', 'cast(EMPLOYER_POC_PHONE_EXT as  integer) as EMPLOYER_POC_PHONE_EXT', 'cast(EMPLOYER_POC_EMAIL as string ) as EMPLOYER_POC_EMAIL', 'cast(AGENT_REPRESENTING_EMPLOYER as string ) as AGENT_REPRESENTING_EMPLOYER', 'cast(AGENT_ATTORNEY_LAST_NAME as string ) as AGENT_ATTORNEY_LAST_NAME', 'cast(AGENT_ATTORNEY_FIRST_NAME as string ) as AGENT_ATTORNEY_FIRST_NAME', 'cast(AGENT_ATTORNEY_MIDDLE_NAME as string ) as AGENT_ATTORNEY_MIDDLE_NAME', 'cast(AGENT_ATTORNEY_ADDRESS1 as  string) as AGENT_ATTORNEY_ADDRESS1', 'cast(AGENT_ATTORNEY_ADDRESS2 as string ) as AGENT_ATTORNEY_ADDRESS2', 'cast(AGENT_ATTORNEY_CITY as string ) as AGENT_ATTORNEY_CITY', 'cast(AGENT_ATTORNEY_STATE as string ) as AGENT_ATTORNEY_STATE', 'cast(AGENT_ATTORNEY_POSTAL_CODE as  string) as AGENT_ATTORNEY_POSTAL_CODE', 'cast(AGENT_ATTORNEY_COUNTRY as string ) as AGENT_ATTORNEY_COUNTRY', 'cast(AGENT_ATTORNEY_PROVINCE as  string) as AGENT_ATTORNEY_PROVINCE', 'cast(AGENT_ATTORNEY_PHONE as  string) as AGENT_ATTORNEY_PHONE', 'cast(AGENT_ATTORNEY_PHONE_EXT as integer ) as AGENT_ATTORNEY_PHONE_EXT', 'cast(AGENT_ATTORNEY_EMAIL_ADDRESS as string ) as AGENT_ATTORNEY_EMAIL_ADDRESS', 'cast(LAWFIRM_NAME_BUSINESS_NAME as string ) as LAWFIRM_NAME_BUSINESS_NAME', 'cast(STATE_OF_HIGHEST_COURT as string ) as STATE_OF_HIGHEST_COURT', 'cast(NAME_OF_HIGHEST_STATE_COURT as  string) as NAME_OF_HIGHEST_STATE_COURT', 'cast(WORKSITE_WORKERS as string ) as WORKSITE_WORKERS', 'cast(SECONDARY_ENTITY as string ) as SECONDARY_ENTITY', 'cast(SECONDARY_ENTITY_BUSINESS_NAME as string  ) as SECONDARY_ENTITY_BUSINESS_NAME', 'cast(WORKSITE_ADDRESS1 as string ) as WORKSITE_ADDRESS1', 'cast(WORKSITE_ADDRESS2 as string ) as WORKSITE_ADDRESS2', 'cast(WORKSITE_CITY as  string) as WORKSITE_CITY', 'cast(WORKSITE_COUNTY as  string) as WORKSITE_COUNTY', 'cast(WORKSITE_STATE as  string) as WORKSITE_STATE', 'cast(WORKSITE_POSTAL_CODE as string ) as WORKSITE_POSTAL_CODE', 'cast(WAGE_RATE_OF_PAY_FROM as numeric  ) as WAGE_RATE_OF_PAY_FROM', 'cast(WAGE_RATE_OF_PAY_TO as numeric ) as WAGE_RATE_OF_PAY_TO', 'cast(WAGE_UNIT_OF_PAY as string ) as WAGE_UNIT_OF_PAY', 'cast(PREVAILING_WAGE as numeric ) as PREVAILING_WAGE', 'cast(PW_UNIT_OF_PAY as string ) as PW_UNIT_OF_PAY', 'cast(PW_TRACKING_NUMBER as string ) as PW_TRACKING_NUMBER', 'cast(PW_WAGE_LEVEL as  string) as PW_WAGE_LEVEL', 'cast(PW_OES_YEAR as int ) as PW_OES_YEAR', 'cast(PW_OTHER_SOURCE as  string) as PW_OTHER_SOURCE', 'cast(PW_OTHER_YEAR as int  ) as PW_OTHER_YEAR', 'cast(PW_SURVEY_PUBLISHER as string ) as PW_SURVEY_PUBLISHER', 'cast(PW_SURVEY_NAME as string ) as PW_SURVEY_NAME', 'cast(TOTAL_WORKSITE_LOCATIONS as string ) as TOTAL_WORKSITE_LOCATIONS', 'cast(AGREE_TO_LC_STATEMENT as string ) as AGREE_TO_LC_STATEMENT', 'cast(H_1B_DEPENDENT as string ) as H_1B_DEPENDENT', 'cast(WILLFUL_VIOLATOR as  string) as WILLFUL_VIOLATOR', 'cast(SUPPORT_H1B as string ) as SUPPORT_H1B', 'cast(STATUTORY_BASIS as string ) as STATUTORY_BASIS', 'cast(APPENDIX_A_ATTACHED as  string) as APPENDIX_A_ATTACHED', 'cast(PUBLIC_DISCLOSURE as string ) as PUBLIC_DISCLOSURE', 'cast(PREPARER_LAST_NAME as string ) as PREPARER_LAST_NAME', 'cast(PREPARER_FIRST_NAME as string ) as PREPARER_FIRST_NAME', 'cast(PREPARER_MIDDLE_INITIAL as string ) as PREPARER_MIDDLE_INITIAL', 'cast(PREPARER_BUSINESS_NAME as string ) as PREPARER_BUSINESS_NAME', 'cast(PREPARER_EMAIL as string ) as  PREPARER_EMAIL']\n"
     ]
    },
    {
     "name": "stderr",
     "output_type": "stream",
     "text": [
      "25/02/01 05:42:25 WARN CharVarcharUtils: The Spark cast operator does not support char/varchar type and simply treats them as string type. Please use string type directly to avoid confusion. Otherwise, you can set spark.sql.legacy.charVarcharAsString to true, so that Spark treat them as string type as same as Spark 3.0 and earlier\n",
      "25/02/01 05:42:25 WARN CharVarcharUtils: The Spark cast operator does not support char/varchar type and simply treats them as string type. Please use string type directly to avoid confusion. Otherwise, you can set spark.sql.legacy.charVarcharAsString to true, so that Spark treat them as string type as same as Spark 3.0 and earlier\n",
      "25/02/01 05:42:25 WARN CharVarcharUtils: The Spark cast operator does not support char/varchar type and simply treats them as string type. Please use string type directly to avoid confusion. Otherwise, you can set spark.sql.legacy.charVarcharAsString to true, so that Spark treat them as string type as same as Spark 3.0 and earlier\n",
      "25/02/01 05:42:25 WARN CharVarcharUtils: The Spark cast operator does not support char/varchar type and simply treats them as string type. Please use string type directly to avoid confusion. Otherwise, you can set spark.sql.legacy.charVarcharAsString to true, so that Spark treat them as string type as same as Spark 3.0 and earlier\n",
      "25/02/01 05:42:25 WARN CharVarcharUtils: The Spark cast operator does not support char/varchar type and simply treats them as string type. Please use string type directly to avoid confusion. Otherwise, you can set spark.sql.legacy.charVarcharAsString to true, so that Spark treat them as string type as same as Spark 3.0 and earlier\n",
      "25/02/01 05:42:25 WARN CharVarcharUtils: The Spark cast operator does not support char/varchar type and simply treats them as string type. Please use string type directly to avoid confusion. Otherwise, you can set spark.sql.legacy.charVarcharAsString to true, so that Spark treat them as string type as same as Spark 3.0 and earlier\n",
      "25/02/01 05:42:25 WARN CharVarcharUtils: The Spark cast operator does not support char/varchar type and simply treats them as string type. Please use string type directly to avoid confusion. Otherwise, you can set spark.sql.legacy.charVarcharAsString to true, so that Spark treat them as string type as same as Spark 3.0 and earlier\n",
      "25/02/01 05:42:25 WARN CharVarcharUtils: The Spark cast operator does not support char/varchar type and simply treats them as string type. Please use string type directly to avoid confusion. Otherwise, you can set spark.sql.legacy.charVarcharAsString to true, so that Spark treat them as string type as same as Spark 3.0 and earlier\n"
     ]
    },
    {
     "name": "stdout",
     "output_type": "stream",
     "text": [
      "+------------------+-----------+-------------+-------------+------------------+----------+--------------------+--------+--------------------+------------------+----------+----------+----------------------+--------------+--------------------+--------------------------+-------------------------+---------------+----------------+--------------------+--------------------+--------------------+-----------------+---------------+--------------+--------------------+--------------------+-----------------+--------------+------------------+----------+----------------------+-----------------------+------------------------+----------------------+---------------------+---------------------+-----------------+------------------+------------------------+--------------------+---------------------+------------------+----------------------+--------------------+---------------------------+------------------------+-------------------------+--------------------------+-----------------------+-----------------------+-------------------+--------------------+--------------------------+----------------------+-----------------------+--------------------+------------------------+----------------------------+--------------------------+----------------------+---------------------------+----------------+----------------+------------------------------+--------------------+--------------------+------------------+-------------------+--------------+--------------------+---------------------+-------------------+----------------+---------------+--------------+------------------+-------------+-----------+---------------+-------------+-------------------+--------------+------------------------+---------------------+--------------+----------------+-----------+---------------+-------------------+-----------------+------------------+-------------------+-----------------------+----------------------+--------------------+\n",
      "|       CASE_NUMBER|CASE_STATUS|RECEIVED_DATE|DECISION_DATE|ORIGINAL_CERT_DATE|VISA_CLASS|           JOB_TITLE|SOC_CODE|           SOC_TITLE|FULL_TIME_POSITION|BEGIN_DATE|  END_DATE|TOTAL_WORKER_POSITIONS|NEW_EMPLOYMENT|CONTINUED_EMPLOYMENT|CHANGE_PREVIOUS_EMPLOYMENT|NEW_CONCURRENT_EMPLOYMENT|CHANGE_EMPLOYER|AMENDED_PETITION|       EMPLOYER_NAME|      TRADE_NAME_DBA|   EMPLOYER_ADDRESS1|EMPLOYER_ADDRESS2|  EMPLOYER_CITY|EMPLOYER_STATE|EMPLOYER_POSTAL_CODE|    EMPLOYER_COUNTRY|EMPLOYER_PROVINCE|EMPLOYER_PHONE|EMPLOYER_PHONE_EXT|NAICS_CODE|EMPLOYER_POC_LAST_NAME|EMPLOYER_POC_FIRST_NAME|EMPLOYER_POC_MIDDLE_NAME|EMPLOYER_POC_JOB_TITLE|EMPLOYER_POC_ADDRESS1|EMPLOYER_POC_ADDRESS2|EMPLOYER_POC_CITY|EMPLOYER_POC_STATE|EMPLOYER_POC_POSTAL_CODE|EMPLOYER_POC_COUNTRY|EMPLOYER_POC_PROVINCE|EMPLOYER_POC_PHONE|EMPLOYER_POC_PHONE_EXT|  EMPLOYER_POC_EMAIL|AGENT_REPRESENTING_EMPLOYER|AGENT_ATTORNEY_LAST_NAME|AGENT_ATTORNEY_FIRST_NAME|AGENT_ATTORNEY_MIDDLE_NAME|AGENT_ATTORNEY_ADDRESS1|AGENT_ATTORNEY_ADDRESS2|AGENT_ATTORNEY_CITY|AGENT_ATTORNEY_STATE|AGENT_ATTORNEY_POSTAL_CODE|AGENT_ATTORNEY_COUNTRY|AGENT_ATTORNEY_PROVINCE|AGENT_ATTORNEY_PHONE|AGENT_ATTORNEY_PHONE_EXT|AGENT_ATTORNEY_EMAIL_ADDRESS|LAWFIRM_NAME_BUSINESS_NAME|STATE_OF_HIGHEST_COURT|NAME_OF_HIGHEST_STATE_COURT|WORKSITE_WORKERS|SECONDARY_ENTITY|SECONDARY_ENTITY_BUSINESS_NAME|   WORKSITE_ADDRESS1|   WORKSITE_ADDRESS2|     WORKSITE_CITY|    WORKSITE_COUNTY|WORKSITE_STATE|WORKSITE_POSTAL_CODE|WAGE_RATE_OF_PAY_FROM|WAGE_RATE_OF_PAY_TO|WAGE_UNIT_OF_PAY|PREVAILING_WAGE|PW_UNIT_OF_PAY|PW_TRACKING_NUMBER|PW_WAGE_LEVEL|PW_OES_YEAR|PW_OTHER_SOURCE|PW_OTHER_YEAR|PW_SURVEY_PUBLISHER|PW_SURVEY_NAME|TOTAL_WORKSITE_LOCATIONS|AGREE_TO_LC_STATEMENT|H_1B_DEPENDENT|WILLFUL_VIOLATOR|SUPPORT_H1B|STATUTORY_BASIS|APPENDIX_A_ATTACHED|PUBLIC_DISCLOSURE|PREPARER_LAST_NAME|PREPARER_FIRST_NAME|PREPARER_MIDDLE_INITIAL|PREPARER_BUSINESS_NAME|      PREPARER_EMAIL|\n",
      "+------------------+-----------+-------------+-------------+------------------+----------+--------------------+--------+--------------------+------------------+----------+----------+----------------------+--------------+--------------------+--------------------------+-------------------------+---------------+----------------+--------------------+--------------------+--------------------+-----------------+---------------+--------------+--------------------+--------------------+-----------------+--------------+------------------+----------+----------------------+-----------------------+------------------------+----------------------+---------------------+---------------------+-----------------+------------------+------------------------+--------------------+---------------------+------------------+----------------------+--------------------+---------------------------+------------------------+-------------------------+--------------------------+-----------------------+-----------------------+-------------------+--------------------+--------------------------+----------------------+-----------------------+--------------------+------------------------+----------------------------+--------------------------+----------------------+---------------------------+----------------+----------------+------------------------------+--------------------+--------------------+------------------+-------------------+--------------+--------------------+---------------------+-------------------+----------------+---------------+--------------+------------------+-------------+-----------+---------------+-------------+-------------------+--------------+------------------------+---------------------+--------------+----------------+-----------+---------------+-------------------+-----------------+------------------+-------------------+-----------------------+----------------------+--------------------+\n",
      "|I-200-19268-393467|  Certified|   2019-09-25|   2019-10-01|              null|      H-1B|APPLICATION ENGIN...| 15-1199|COMPUTER OCCUPATI...|                 Y|2019-10-07|2022-10-07|                     1|             1|                   0|                         0|                        0|              0|               0| JO-ANN STORES, INC.|JO-ANN FABRIC AND...|    5555 DARROW ROAD|             null|         HUDSON|            OH|               44236|UNITED STATES OF ...|             null|    3304636787|              null|    451120|                KLUSKA|                 KRYSTA|                    null|  MANAGER, TALENT A...|     5555 DARROW ROAD|                 null|           HUDSON|                OH|                   44236|UNITED STATES OF ...|                 null|        3304636787|                  null|KRYSTA.KLUSKA@JOA...|                          Y|                 TZU-KAI|                  TZU-KAI|                      null|   333 WEST WACKER D...|             15TH FLOOR|            CHICAGO|                  IL|                     60606|  UNITED STATES OF ...|                   null|        3122636101.0|                    null|            KLO@FRAGOMEN.COM|      FRAGOMEN, DEL REY...|                    IL|              SUPREME COURT|            null|               N|                          null|    5555 Darrow Road|                null|            Hudson|             Summit|            OH|               44224|               100000|               null|            Year|          95118|          Year|              null|           IV|       2018|            OES|         null|               null|          null|                    null|                    Y|             N|               N|       null|           null|               null|Disclose Business|              null|               null|                   null|                  null|                null|\n",
      "|I-200-19268-638983|  Certified|   2019-09-25|   2019-10-01|              null|      H-1B|     BI DEVELOPER II| 15-1132|SOFTWARE DEVELOPE...|                 Y|2020-01-08|2023-01-07|                     1|             0|                   1|                         0|                        0|              0|               0|DENKEN SOLUTIONS ...|                null|9170 IRVINE CENTE...|      SUITE # 200|         IRVINE|            CA|               92618|UNITED STATES OF ...|             null|    8017923416|              null|    541512|               MADDULA|                    RAJ|                    null|    SOLUTION ARCHITECT| 9170 IRVINE CENTE...|          SUITE # 200|           IRVINE|                CA|                   92618|UNITED STATES OF ...|                 null|        8017923416|                  null|IMMIGRATION@DENKE...|                          Y|                  YELENA|                   YELENA|                      null|   6622 SOUTHPOINT D...|                STE 330|       JACKSONVILLE|                  FL|                     32216|  UNITED STATES OF ...|                   null|        9043890055.0|                    null|        USCISNOTICES@SCAR...|      SCARBOROUGH LAW, ...|                    FL|       FLORIDA SUPREME C...|            null|               Y|                    NAVIHEALTH|210 WESTWOOD PL #400|                null|         BRENTWOOD|         WILLIAMSON|            TN|               37027|                   39|                 39|            Hour|             39|          Hour|              null|           II|       2019|            OES|         null|               null|          null|                    null|                    Y|             Y|               N|          Y|           BOTH|               null|Disclose Business|              null|               null|                   null|                  null|                null|\n",
      "|I-200-19268-177184|  Certified|   2019-09-25|   2019-10-01|              null|      H-1B|    QUALITY ENGINEER| 17-2141|MECHANICAL ENGINEERS|                 Y|2019-10-03|2022-10-02|                     1|             0|                   0|                         0|                        0|              1|               0|        EPITEC, INC.|                null|   24800 DENSO DRIVE|         STE. 150|     SOUTHFIELD|            MI|               48033|UNITED STATES OF ...|             null|    2483536800|              null|    541511|               WILDMAN|                 TAYLOR|                    null|      IMMIGRATION LEAD|    24800 DENSO DRIVE|             STE. 150|       SOUTHFIELD|                MI|                   48033|UNITED STATES OF ...|                 null|        2483536800|                  null|IMMIGRATION@EPITE...|                          Y|                 NATALIA|                  NATALIA|                    MADLEN|   755 W. BIG BEAVER...|             SUITE 1100|               TROY|                  MI|                     48084|  UNITED STATES OF ...|                   null|        2485199900.0|                    null|        NATALIA.SARRAF@EL...|         ELLIS PORTER, PLC|                    MI|              SUPREME COURT|            null|               Y|            Ford Motor Company|21 Town Center Of...|18900 Michigan Av...|          Dearborn|              Wayne|            MI|               48126|                   44|               null|            Hour|             39|          Hour|              null|           II|       2019|            OES|         null|               null|          null|                    null|                    Y|             Y|               N|          Y|           BOTH|               null|Disclose Business|              null|               null|                   null|                  null|                null|\n",
      "|I-200-19268-936403|  Certified|   2019-09-25|   2019-10-01|              null|      H-1B|SOFTWARE DEVELOPE...| 15-1132|SOFTWARE DEVELOPE...|                 Y|2019-10-07|2022-10-01|                     1|             0|                   1|                         0|                        0|              0|               0|SYSTEMS TECHNOLOG...|                null|3001 W. BIG BEAVE...|             null|           TROY|            MI|               48084|UNITED STATES OF ...|             null|    2486439010|              null|    541511|                 ARVAL|                SREESHA|                    null|  IMMIGRATION PARAL...| 3001 W. BIG BEAVE...|                 null|             TROY|                MI|                   48084|UNITED STATES OF ...|                 null|        2486439010|                  null|SREESHA.ARVAL@STG...|                          N|                    null|                     null|                      null|                   null|                   null|               null|                null|                      null|                  null|                   null|                null|                    null|                        null|                      null|                  null|                       null|            null|               Y|            Ford Motor Company| 21001 Van Born Road|                null|            Taylor|              Wayne|            MI|               48180|                   58|                 58|            Hour|             53|          Hour|              null|           IV|       2019|            OES|         null|               null|          null|                    null|                    Y|             Y|               N|          Y|           BOTH|               null|Disclose Business|              null|               null|                   null|                  null|                null|\n",
      "|I-200-19268-394079|  Certified|   2019-09-25|   2019-10-01|              null|      H-1B|QUALITY ENGINEER ...| 15-1199|COMPUTER OCCUPATI...|                 Y|2019-10-09|2022-10-08|                     1|             0|                   0|                         1|                        0|              0|               0|E-GIANTS TECHNOLO...|                null|8033 UNIVERSITY BLVD|          SUITE A|          CLIVE|            IA|               50325|UNITED STATES OF ...|             null|    5153091451|              null|    541511|             BODDULURI|                KRISHNA|                    null|                   CEO| 8033 UNIVERSITY BLVD|              SUITE A|            CLIVE|                IA|                   50325|UNITED STATES OF ...|                 null|        5153091451|                  null|LEGAL@THEEGIANTS.COM|                          N|                    null|                     null|                      null|                   null|                   null|               null|                null|                      null|                  null|                   null|                null|                    null|                        null|                      null|                  null|                       null|            null|               Y|                    KROGER INC|  11450, GROOMS ROAD|                null|          BLUE ASH|           HAMILTON|            OH|               45242|                75000|               null|            Year|          65333|          Year|              null|           II|       2019|            OES|         null|               null|          null|                    null|                    Y|             Y|               N|          Y|           BOTH|               null|Disclose Business|              null|               null|                   null|                  null|LEGAL@THEEGIANTS.COM|\n",
      "|I-200-19268-495825|  Certified|   2019-09-25|   2019-10-01|              null|      H-1B|OPERATION RESEARC...| 15-2031|OPERATIONS RESEAR...|                 Y|2019-10-07|2022-10-06|                     1|             0|                   0|                         0|                        0|              1|               0|      BIZINTEX, INC.|                null|225 CREEKSTONE RI...|        SUITE 11,|      WOODSTOCK|            GA|               30188|UNITED STATES OF ...|             null|    6787854949|              null|    541511|               YERNENI|                 RAMESH|                    null|             PRESIDENT| 225 CREEKSTONE RI...|            SUITE 11,|        WOODSTOCK|                GA|                   30188|UNITED STATES OF ...|                 null|        6787854949|                  null|RAMESH.YERNENI@BI...|                          N|                    null|                     null|                      null|                   null|                   null|               null|                null|                      null|                  null|                   null|                null|                    null|                        null|                      null|                  null|                       null|            null|               Y|            Cisco Systems, Inc|  170 West Tasman Dr|                null|          San Jose|        SANTA CLARA|            CA|               95134|                73000|              73000|            Year|          72280|          Year|              null|           II|       2019|            OES|         null|               null|          null|                    null|                    Y|             Y|               N|          Y|           BOTH|               null|Disclose Business|              null|               null|                   null|                  null|                null|\n",
      "|I-200-19268-319248|  Certified|   2019-09-25|   2019-10-01|              null|      H-1B|  SOFTWARE DEVELOPER| 15-1132|SOFTWARE DEVELOPE...|                 Y|2019-09-26|2022-09-25|                     1|             0|                   0|                         0|                        0|              0|               1|NEMO IT SOLUTIONS...|                null|   801 E CAMPBELL RD|        STE # 320|     RICHARDSON|            TX|               75081|UNITED STATES OF ...|             null|    9722340707|              null|    541511|                HAAKLA|                  MAMTA|                    null|            HR MANAGER|    801 E CAMPBELL RD|            STE # 320|       RICHARDSON|                TX|                   75081|UNITED STATES OF ...|                 null|        9722340707|                   101|HR@NEMOITSOLUTION...|                          N|                    null|                     null|                      null|                   null|                   null|               null|                null|                      null|                  null|                   null|                null|                    null|                        null|                      null|                  null|                       null|            null|               Y|          BLUE CROSS AND BL...|4800 DEERWOOD CAM...|        BUILDING 600|      JACKSONVILLE|              DUVAL|            FL|               32246|                84000|              84000|            Year|          73091|          Year|              null|           II|       2019|            OES|         null|               null|          null|                    null|                    Y|             Y|               N|          Y|           BOTH|               null|Disclose Business|              null|               null|                   null|                  null|                null|\n",
      "|I-200-19268-664806|  Certified|   2019-09-25|   2019-10-01|              null|      H-1B| .NET LEAD DEVELOPER| 15-1132|SOFTWARE DEVELOPE...|                 Y|2019-10-07|2022-06-01|                     1|             0|                   0|                         0|                        0|              0|               1|MAGNA INFOTECH, LTD.|                null|9300 WEST 110TH S...|        SUITE 630|  OVERLAND PARK|            KS|               66210|UNITED STATES OF ...|             null|    9132240001|              null|    541511|              NARAWANE|              RAJASHREE|                    null|  DIRECTOR HUMAN RE...| 9300 WEST 110TH S...|            SUITE 630|    OVERLAND PARK|                KS|                   66210|UNITED STATES OF ...|                 null|        9132240001|                  null|       HR@MAGNAI.COM|                          Y|                    RONA|                     RONA|                       MAE|   691 N. SQUIRREL ROAD|               STE. 185|       AUBURN HILLS|                  MI|                     48326|  UNITED STATES OF ...|                   null|        2483401854.0|                    null|        LIZ@CORPIMMIGRATI...|         RONA M. LUM, P.C.|                    MI|       MICHIGAN SUPREME ...|            null|               Y|          Blue Cross Blue S...|       2300 Main St.|                null|       Kansas City|               Cass|            MO|               64108|               105000|               null|            Year|          73923|          Year|              null|           II|       2019|            OES|         null|               null|          null|                    null|                    Y|             Y|               N|          Y|           BOTH|               null|Disclose Business|             KHAMI|          ELIZABETH|                      S|  LAW OFFICES OF RO...|LIZ@CORPIMMIGRATI...|\n",
      "|I-200-19268-986237|  Certified|   2019-09-25|   2019-10-01|              null|      H-1B|    NETWORK ENGINEER| 15-1142|NETWORK AND COMPU...|                 Y|2019-12-31|2022-12-30|                     1|             0|                   1|                         0|                        0|              0|               0|  CIRA INFOTECH INC.|                null|5755 NORTH POINT ...|         SUITE 82|     ALPHARETTA|            GA|               30022|UNITED STATES OF ...|             null|    7707095755|              null|    541511|          DHAMANCHARLA|                SUPRIYA|                    null|              DIRECTOR| 5755 NORTH POINT ...|             SUITE 82|       ALPHARETTA|                GA|                   30022|UNITED STATES OF ...|                 null|        7707095755|                  null|IMMIGRATION@CIRAI...|                          Y|                 SOWMIYA|                  SOWMIYA|                      null|   5755 NORTH POINT ...|               SUITE 24|         ALPHARETTA|                  GA|                     30022|  UNITED STATES OF ...|                   null|        7706192884.0|                    null|               LCA@SIKAL.COM|      SIKAL, ADHIPATHI ...|                    TN|       TENNESSEE SUPREME...|            null|               N|                          null|5755 North Point ...|            Suite 82|        Alpharetta|             Fulton|            GA|               30022|                83000|               null|            Year|          74381|          Year|              null|           II|       2019|            OES|         null|               null|          null|                    null|                    Y|             Y|               N|          Y|           BOTH|               null|Disclose Business|              null|               null|                   null|                  null|                null|\n",
      "|I-200-19268-150434|  Certified|   2019-09-25|   2019-10-01|              null|      H-1B|SOFTWARE DEVELOPE...| 15-1132|SOFTWARE DEVELOPE...|                 Y|2019-10-07|2022-10-06|                     1|             0|                   0|                         0|                        0|              0|               1|SPRY INFO SOLUTIO...|                null|1081 CAMBRIDGE SQ...|          SUITE B|     ALPHARETTA|            GA|               30009|UNITED STATES OF ...|             null|    2145616706|              null|    541511|                  UPPU|                SUNITHA|                    null|            HR MANAGER| 1081 CAMBRIDGE SQ...|              SUITE B|       ALPHARETTA|                GA|                   30009|UNITED STATES OF ...|                 null|        2145616706|                  null|OPERATIONS@SPRYIN...|                          Y|                 SOWMIYA|                  SOWMIYA|                      null|   5755 NORTH POINT ...|               SUITE 24|         ALPHARETTA|                  GA|                     30022|  UNITED STATES OF ...|                   null|        7706192884.0|                    null|               LCA@SIKAL.COM|      SIKAL, ADHIPATHI ...|                    TN|       TENNESSEE SUPREME...|            null|               Y|             Creehan & Company|    8 Grandview Cir.|                null|        Canonsburg|         Washington|            PA|               15317|                75000|               null|            Year|          74963|          Year|              null|           II|       2019|            OES|         null|               null|          null|                    null|                    Y|             Y|               N|          Y|           BOTH|               null|Disclose Business|              null|               null|                   null|                  null|                null|\n",
      "|I-200-19268-585552|  Certified|   2019-09-25|   2019-10-01|              null|      H-1B|POWER BI ADMINIST...| 15-1199|COMPUTER OCCUPATI...|                 Y|2019-09-30|2022-09-29|                     1|             0|                   0|                         0|                        0|              0|               1|     TECH MATRIX INC|                null|   622 GEORGES ROAD,|        SUITE 102|NORTH BRUNSWICK|            NJ|                8902|UNITED STATES OF ...|             null|    7328565005|              null|    541511|                VENDRA|                 RAJA.S|                    null|              DIRECTOR|    622 GEORGES ROAD,|            SUITE 102|  NORTH BRUNSWICK|                NJ|                    8902|UNITED STATES OF ...|                 null|        7328565005|                  null|HR@TECHMATRIXINC.COM|                          N|                    null|                     null|                      null|                   null|                   null|               null|                null|                      null|                  null|                   null|                null|                    null|                        null|                      null|                  null|                       null|            null|               Y|                   Exxon Mobil|1725 Hughes Landi...|                null|     The Woodlands|         MONTGOMERY|            TX|               77381|                76000|              76000|            Year|          75546|          Year|              null|           II|       2019|            OES|         null|               null|          null|                    null|                    Y|             Y|               N|          Y|           BOTH|               null|Disclose Business|              null|               null|                   null|                  null|                null|\n",
      "|I-200-19268-874666|  Certified|   2019-09-25|   2019-10-01|              null|      H-1B|          QA ANALYST| 15-1199|COMPUTER OCCUPATI...|                 Y|2019-10-10|2022-10-09|                     1|             0|                   0|                         1|                        0|              0|               0|  LOGIC PLANET, INC.|                null|       4525 ROUTE 27|             null|      PRINCETON|            NJ|                8540|UNITED STATES OF ...|             null|    7325120009|              null|    541519|             PENEMATSA|                  SUMAN|                    null|        VICE PRESIDENT|        4525 ROUTE 27|                 null|        PRINCETON|                NJ|                    8540|UNITED STATES OF ...|                 null|        7325120009|                  null|EMAILIMMIGRATION@...|                          Y|               CHRISTINE|                CHRISTINE|                      null|    800 W CUMMINGS PARK|             SUITE 2750|             WOBURN|                  MA|                      1801|  UNITED STATES OF ...|                   null|        6175009978.0|                    null|        CHRISTINEL@RAMINE...|      RAMINENI & SHEPAR...|                    MA|       SUPREME JUDICIAL ...|            null|               Y|          Virginia State Po...|7700 Midlothian T...|                null|          Richmond|       Chesterfield|            VA|               23235|                78915|              78915|            Year|          76419|          Year|              null|           II|       2019|            OES|         null|               null|          null|                    null|                    Y|             Y|               N|          Y|           BOTH|               null|Disclose Business|              null|               null|                   null|                  null|                null|\n",
      "|I-200-19268-363404|  Certified|   2019-09-25|   2019-10-01|              null|      H-1B|AUTOMATION QA ENG...| 15-1199|COMPUTER OCCUPATI...|                 Y|2019-09-25|2022-09-24|                     1|             0|                   0|                         0|                        0|              0|               1|     TECH MATRIX INC|                null|   622 GEORGES ROAD,|        SUITE 102|NORTH BRUNSWICK|            NJ|                8902|UNITED STATES OF ...|             null|    7328565005|              null|    541511|                VENDRA|                 RAJA.S|                    null|              DIRECTOR|    622 GEORGES ROAD,|            SUITE 102|  NORTH BRUNSWICK|                NJ|                    8902|UNITED STATES OF ...|                 null|        7328565005|                  null|HR@TECHMATRIXINC.COM|                          N|                    null|                     null|                      null|                   null|                   null|               null|                null|                      null|                  null|                   null|                null|                    null|                        null|                      null|                  null|                       null|            null|               Y|                      Barclays|  400 Jefferson Park|                null|          Whippany|             MORRIS|            NJ|                7981|                80000|              80000|            Year|          77750|          Year|              null|           II|       2019|            OES|         null|               null|          null|                    null|                    Y|             Y|               N|          Y|           BOTH|               null|Disclose Business|              null|               null|                   null|                  null|                null|\n",
      "|I-200-19268-103174|  Certified|   2019-09-25|   2019-10-01|              null|      H-1B|          CONSULTANT| 17-2112|INDUSTRIAL ENGINEERS|                 Y|2019-10-07|2022-03-01|                     1|             0|                   0|                         0|                        0|              0|               1|P3 NORTH AMERICA,...|                null|25650 W. 11 MILE RD.|        SUITE 300|     SOUTHFIELD|            MI|               48034|UNITED STATES OF ...|             null|    2487922277|              null|    541330|             KAPITONOV|                TATYANA|                    null|         HR GENERALIST| 25650 W. 11 MILE RD.|            SUITE 300|       SOUTHFIELD|                MI|                   48034|UNITED STATES OF ...|                 null|        2487922277|                  null|TATYANA.KAPITONOV...|                          Y|                 NATALIA|                  NATALIA|                    MADLEN|   755 W. BIG BEAVER...|             SUITE 1100|               TROY|                  MI|                     48084|  UNITED STATES OF ...|                   null|        2485199900.0|                    null|        NATALIA.SARRAF@EL...|         ELLIS PORTER, PLC|                    MI|              SUPREME COURT|            null|               Y|          Daimler Trucks No...| 4435 N. Channel Ave|                null|          Portland|         Multonomah|            OR|               97217|                90000|               null|            Year|          78853|          Year|              null|           II|       2019|            OES|         null|               null|          null|                    null|                    Y|             Y|               N|          Y|           BOTH|               null|Disclose Business|              null|               null|                   null|                  null|                null|\n",
      "|I-200-19268-465212|  Certified|   2019-09-25|   2019-10-01|              null|      H-1B|HIL SYSTEMS ENGINEER| 17-2071|ELECTRICAL ENGINEERS|                 Y|2020-01-01|2022-12-31|                     1|             0|                   1|                         0|                        0|              0|               0|ESG AUTOMOTIVE, INC.|                null| 1391 WHEATON AVENUE|        SUITE 700|           TROY|            MI|               48083|UNITED STATES OF ...|             null|    2482462220|              null|    541330|              JOHNSTON|                   TAYA|                    null|  DIRECTOR OF HUMAN...|  1391 WHEATON AVENUE|            SUITE 700|             TROY|                MI|                   48083|UNITED STATES OF ...|                 null|        2482462220|                  null|TAYA.JOHNSTON@ESG...|                          Y|                 NATALIA|                  NATALIA|                    MADLEN|   755 W. BIG BEAVER...|             SUITE 1100|               TROY|                  MI|                     48084|  UNITED STATES OF ...|                   null|        2485199900.0|                    null|        NATALIA.SARRAF@EL...|         ELLIS PORTER, PLC|                    MI|              SUPREME COURT|            null|               Y|            Ford Motor Company| 20300 Rotunda Drive|                null|          Dearborn|              Wayne|            MI|               48124|                91237|               null|            Year|          80330|          Year|              null|           II|       2019|            OES|         null|               null|          null|                    null|                    Y|             Y|               N|          Y|           BOTH|               null|Disclose Business|              null|               null|                   null|                  null|                null|\n",
      "|I-200-19268-759520|  Certified|   2019-09-25|   2019-10-01|              null|      H-1B|   SOFTWARE ENGINEER| 15-1132|SOFTWARE DEVELOPE...|                 Y|2019-10-14|2022-10-13|                     1|             0|                   0|                         0|                        0|              0|               1|      CYBERTHINK INC|                null| 685 ROUTE 202 / 206|          STE 101|    BRIDGEWATER|            NJ|                8807|UNITED STATES OF ...|             null|    9084298008|              5065|    541519|              LOMBARDO|                    JIM|                    null|        VICE PRESIDENT|       CYBERTHINK INC| 685 ROUTE 202 / 2...|      BRIDGEWATER|                NJ|                    8807|UNITED STATES OF ...|                 null|        9084298008|                  5060|IMMIGRATION@CYBER...|                          N|                    null|                     null|                      null|                   null|                   null|               null|                null|                      null|                  null|                   null|                null|                    null|                        null|                      null|                  null|                       null|            null|               Y|          T. Rowe Price Gro...|   709 Digital Drive|                null|Linthicum Heights,|ANNE ARUNDEL COUNTY|            MD|               21090|                81500|              81500|            Year|          81474|          Year|              null|           II|       2019|            OES|         null|               null|          null|                    null|                    Y|             Y|               N|          Y|           BOTH|               null|Disclose Business|            SHARMA|              MANOJ|                   null|        CYBERTHINK INC|MANOJ@CYBERTHINK.COM|\n",
      "|I-200-19268-755044|  Certified|   2019-09-25|   2019-10-01|              null|      H-1B|    HADOOP DEVELOPER| 15-1132|SOFTWARE DEVELOPE...|                 Y|2019-10-02|2020-06-24|                     1|             0|                   0|                         0|                        0|              0|               1|  THOUGHT BYTE, INC.|                null|510 FRANKLIN AVEN...|             null|         NUTLEY|            NJ|                7110|UNITED STATES OF ...|             null|    9082269010|              null|    541511|                JOJULA|                  LATHA|                    null|             PRESIDENT| 510 FRANKLIN AVEN...|                 null|           NUTLEY|                NJ|                    7110|UNITED STATES OF ...|                 null|        9082269010|                  null|LATHA@THOUGHTBYTE...|                          Y|                   JASON|                    JASON|                      ERIC|   30300 NORTHWESTER...|                   null|   FARMINGTON HILLS|                  MI|                     48334|  UNITED STATES OF ...|                   null|        2483577833.0|                    null|          PELTZLAW@GMAIL.COM|      LAW OFFICES OF JA...|                    MI|       SUPREME COURT OF ...|            null|               Y|            Target Corporation| 33 South 6th Street|                null|       Minneapolis|           Hennepin|            MN|               55402|                81536|               null|            Year|          81536|          Year|              null|           II|       2019|            OES|         null|               null|          null|                    null|                    Y|             Y|               N|          Y|           BOTH|               null|Disclose Business|             PELTZ|              JASON|                      E|  LAW OFFICES OF JA...|  PELTZLAW@GMAIL.COM|\n",
      "|I-200-19268-206230|  Certified|   2019-09-25|   2019-10-01|              null|      H-1B|  BUSINESS ANALYST 2| 15-1121|COMPUTER SYSTEMS ...|                 Y|2019-10-02|2022-09-01|                     1|             0|                   0|                         0|                        0|              0|               1|POLARIS CONSULTIN...|                null|20 CORPORATE PLAC...|             null|     PISCATAWAY|            NJ|          08854-6144|UNITED STATES OF ...|             null|    7325908109|              null|    541512|              SHERIKAR|               SHARMILA|                    null|  SENIOR VICE PRESI...| 20 CORPORATE PLAC...|                 null|       PISCATAWAY|                NJ|              08854-6144|UNITED STATES OF ...|                 null|        7325908109|                  null|SHARMILAS@VIRTUSA...|                          Y|                  RAKESH|                   RAKESH|                      null|   11490 COMMERCE PA...|              SUITE 300|             RESTON|                  VA|                     20191|  UNITED STATES OF ...|                   null|        7032306800.0|                    null|        PRAGHA@IMMIGRATIO...|      LAW OFFICES OF RA...|                    VA|       SUPREME COURT OF ...|            null|               Y|          AETNA LIFE INSURA...|  151 FARMINGTON AVE|                null|          HARTFORD|           HARTFORD|            CT|                6105|                87000|              87000|            Year|          81890|          Year|              null|           II|       2019|            OES|         null|               null|          null|                    null|                    Y|             Y|               N|          Y|           BOTH|               null|Disclose Business|              SAHA|             PRAGHA|                      P|  LAW OFFICES OF RA...|PRAGHA@IMMIGRATIO...|\n",
      "|I-200-19268-379595|  Certified|   2019-09-25|   2019-10-01|              null|      H-1B|BCT DBA CONTRACTO...| 15-1132|SOFTWARE DEVELOPE...|                 Y|2019-09-25|2022-09-24|                     1|             0|                   0|                         0|                        0|              1|               0|  XENONINFOTEK, INC.|                null|       2 KILMER ROAD|             null|         EDISON|            NJ|                8817|UNITED STATES OF ...|             null|    7323390075|               108|    541511|                MISHRA|                  AMITA|                    null|              DIRECTOR|        2 KILMER ROAD|                 null|           EDISON|                NJ|                    8817|UNITED STATES OF ...|                 null|        7323390075|                   108|HR@XENONINFOTECH.COM|                          N|                    null|                     null|                      null|                   null|                   null|               null|                null|                      null|                  null|                   null|                null|                    null|                        null|                      null|                  null|                       null|            null|               Y|          WellSky formerly ...|750 Warrenville Road|           Suite 301|             Lisle|             DuPage|            IL|               60532|                81931|              81931|            Year|          81931|          Year|              null|           II|       2019|            OES|         null|               null|          null|                    null|                    Y|             Y|               N|          Y|           BOTH|               null|Disclose Business|              null|               null|                   null|                  null|HR@XENONINFOTECH.COM|\n",
      "|I-200-19268-527567|  Certified|   2019-09-25|   2019-10-01|              null|      H-1B|  SOFTWARE DEVELOPER| 15-1132|SOFTWARE DEVELOPE...|                 Y|2019-09-30|2022-09-29|                     1|             0|                   0|                         0|                        0|              1|               0|COMPUNNEL SOFTWAR...|                null|     103 MORGAN LANE|        SUITE 102|     PLAINSBORO|            NJ|                8536|UNITED STATES OF ...|             null|    6096069010|              null|    541511|            MONTELEONE|                  STEVE|                    null|  MANAGER -IMMIGRATION|      103 MORGAN LANE|            SUITE 102|       PLAINSBORO|                NJ|                    8536|UNITED STATES OF ...|                 null|        6096069010|                  1249|IMMIGRATION@COMPU...|                          N|                    null|                     null|                      null|                   null|                   null|               null|                null|                      null|                  null|                   null|                null|                    null|                        null|                      null|                  null|                       null|            null|               Y|           All State Insurance|     2775 Sanders Rd|                null|        Northbrook|               COOK|            IL|               60062|                85000|              98000|            Year|          81931|          Year|              null|           II|       2019|            OES|         null|               null|          null|                    null|                    Y|             Y|               N|          Y|           BOTH|               null|Disclose Business|              null|               null|                   null|                  null|IMMIGRATION@COMPU...|\n",
      "+------------------+-----------+-------------+-------------+------------------+----------+--------------------+--------+--------------------+------------------+----------+----------+----------------------+--------------+--------------------+--------------------------+-------------------------+---------------+----------------+--------------------+--------------------+--------------------+-----------------+---------------+--------------+--------------------+--------------------+-----------------+--------------+------------------+----------+----------------------+-----------------------+------------------------+----------------------+---------------------+---------------------+-----------------+------------------+------------------------+--------------------+---------------------+------------------+----------------------+--------------------+---------------------------+------------------------+-------------------------+--------------------------+-----------------------+-----------------------+-------------------+--------------------+--------------------------+----------------------+-----------------------+--------------------+------------------------+----------------------------+--------------------------+----------------------+---------------------------+----------------+----------------+------------------------------+--------------------+--------------------+------------------+-------------------+--------------+--------------------+---------------------+-------------------+----------------+---------------+--------------+------------------+-------------+-----------+---------------+-------------+-------------------+--------------+------------------------+---------------------+--------------+----------------+-----------+---------------+-------------------+-----------------+------------------+-------------------+-----------------------+----------------------+--------------------+\n",
      "only showing top 20 rows\n",
      "\n"
     ]
    }
   ],
   "source": [
    "csv_path  = '/root/docker_dataset/h1b_data/Combined_LCA_Disclosure_Data_FY2020.csv'\n",
    "formatted_data_type = [f'{item.strip()}' for item in data_type.split(',')]\n",
    "print(formatted_data_type)\n",
    "df_csv = spark.read.option(\"delimiter\", \",\").option(\"header\", True).option(\"multiline\", \"true\").csv(csv_path)\n",
    "df_csv_updated = df_csv.selectExpr(\n",
    "    formatted_data_type\n",
    ")\n",
    "df_csv_updated.show()"
   ]
  },
  {
   "cell_type": "code",
   "execution_count": 22,
   "metadata": {},
   "outputs": [
    {
     "name": "stdout",
     "output_type": "stream",
     "text": [
      "+-----------+\n",
      "|CASE_STATUS|\n",
      "+-----------+\n",
      "|  Certified|\n",
      "|  Certified|\n",
      "|  Certified|\n",
      "|  Certified|\n",
      "|  Certified|\n",
      "|  Certified|\n",
      "|  Certified|\n",
      "|  Certified|\n",
      "|  Certified|\n",
      "|  Certified|\n",
      "|  Certified|\n",
      "|  Certified|\n",
      "|  Certified|\n",
      "|  Certified|\n",
      "|  Certified|\n",
      "|  Certified|\n",
      "|  Certified|\n",
      "|  Certified|\n",
      "|  Certified|\n",
      "|  Certified|\n",
      "+-----------+\n",
      "only showing top 20 rows\n",
      "\n"
     ]
    },
    {
     "name": "stderr",
     "output_type": "stream",
     "text": [
      "                                                                                \r"
     ]
    },
    {
     "data": {
      "text/plain": [
       "577328"
      ]
     },
     "execution_count": 22,
     "metadata": {},
     "output_type": "execute_result"
    }
   ],
   "source": [
    "df_csv_updated.select(df_csv_updated[\"CASE_STATUS\"]).show()\n",
    "df_csv_updated.count()"
   ]
  },
  {
   "cell_type": "code",
   "execution_count": 26,
   "metadata": {},
   "outputs": [
    {
     "name": "stderr",
     "output_type": "stream",
     "text": [
      "                                                                                \r"
     ]
    }
   ],
   "source": [
    "db_url = \"jdbc:postgresql://host.docker.internal:5432/crime_data_la\"\n",
    "db_properties = {\n",
    "    \"user\": \"john_user\",\n",
    "    \"password\": \"abc@12345\"\n",
    "}\n",
    "mode = \"overwrite\"\n",
    "table_name = \"spark_project.h1b_data\"\n",
    "df_csv_updated.write.option('driver', 'org.postgresql.Driver').jdbc(url=db_url, table=table_name, properties=db_properties)\n"
   ]
  },
  {
   "cell_type": "code",
   "execution_count": null,
   "metadata": {},
   "outputs": [],
   "source": []
  }
 ],
 "metadata": {
  "kernelspec": {
   "display_name": "pyspark_learning_venv",
   "language": "python",
   "name": "python3"
  },
  "language_info": {
   "codemirror_mode": {
    "name": "ipython",
    "version": 3
   },
   "file_extension": ".py",
   "mimetype": "text/x-python",
   "name": "python",
   "nbconvert_exporter": "python",
   "pygments_lexer": "ipython3",
   "version": "3.12.3"
  }
 },
 "nbformat": 4,
 "nbformat_minor": 2
}
