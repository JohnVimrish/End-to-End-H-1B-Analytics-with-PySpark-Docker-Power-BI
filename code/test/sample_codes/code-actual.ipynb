{
 "cells": [
  {
   "cell_type": "code",
   "execution_count": null,
   "metadata": {},
   "outputs": [],
   "source": [
    "from pyspark.sql import SparkSession,functions as F\n",
    "from pyspark import StorageLevel\n",
    "from pyspark import SparkConf\n",
    "from pyspark import SparkConf\n",
    "\n",
    "conf = SparkConf()\n",
    "\n",
    "conf.set(\"spark.app.name\", \"ComprehensiveSparkJob\") \n",
    "conf.set(\"spark.master\", \"local[*]\")                \n",
    "conf.set(\"spark.driver.memory\", \"4g\")      \n",
    "conf.set(\"spark.driver.cores\", \"1\")                 \n",
    "conf.set(\"spark.ui.port\", \"4040\")                \n",
    "\n",
    "# Executor Settings\n",
    "conf.set(\"spark.executor.memory\", \"2g\")      \n",
    "conf.set(\"spark.executor.cores\", \"2\")               \n",
    "conf.set(\"spark.executor.instances\", \"3\")         \n",
    "\n",
    "\n",
    "conf.set(\"spark.default.parallelism\", \"6\")         \n",
    "conf.set(\"spark.sql.shuffle.partitions\", \"6\")       \n",
    "conf.set(\"spark.task.cpus\", \"1\")  \n",
    "\n",
    "# Data Handling Settings\n",
    "conf.set(\"spark.memory.fraction\", \"0.8\")            \n",
    "conf.set(\"spark.memory.storageFraction\", \"0.5\")     \n",
    "\n",
    "# Serialization Settings\n",
    "conf.set(\"spark.serializer\", \"org.apache.spark.serializer.KryoSerializer\")  \n",
    "conf.set(\"spark.kryo.registrationRequired\", \"true\")  \n",
    "conf.set(\"spark.kryo.classesToRegister\", \"org.apache.spark.sql.Row\")  \n",
    "\n",
    "# Debugging and Logging\n",
    "conf.set(\"spark.eventLog.enabled\", \"true\")           \n",
    "conf.set(\"spark.eventLog.dir\", \"/root/spark_log/spark-events/\")  \n",
    "conf.set(\"spark.history.fs.logDirectory\", \"/root/spark_log/spark-history/\")  \n"
   ]
  },
  {
   "cell_type": "code",
   "execution_count": null,
   "metadata": {},
   "outputs": [],
   "source": [
    "spark = SparkSession.builder.config(conf=conf).getOrCreate()"
   ]
  },
  {
   "cell_type": "code",
   "execution_count": 3,
   "metadata": {},
   "outputs": [],
   "source": [
    "input_json_file_path = \"/root/docker_dataset/json_splits/\"  \n",
    "input_file_list  = rfl(input_json_file_path,\".json\")\n",
    "parquet_file_path = \"/root/docker_dataset/json_splits/table_example_1.parquet\"\n"
   ]
  },
  {
   "cell_type": "code",
   "execution_count": 4,
   "metadata": {},
   "outputs": [],
   "source": [
    "\n",
    "def func_cache_dft_data(dataframe) :\n",
    "    dataframe.persist(StorageLevel.MEMORY_AND_DISK)\n",
    "\n",
    "def func_json_dataframe (input_file:str) :\n",
    "    return  spark.read.option(\"multiline\", \"true\").json(input_file)\n",
    "\n",
    "def func_repartion_dataframe(dataframe, repartion_count) :\n",
    "    return dataframe.repartition(repartion_count)\n",
    " \n",
    "\n",
    "def func_explode_based_on_one_key (input_dataframe,explode_key:str , alias_of_column :str)  :\n",
    "    return  input_dataframe.select(F.explode(F.col(explode_key)).alias(alias_of_column))\n",
    "\n",
    "def func_explode_based_on_depper_root_key (input_dataframe,explode_key:list  , drop_column :str)  :\n",
    "    \"\"\" Always try to assemeble  he json key  based on the root level  in heirarchial order like root -->values-->payload-->commits then the explode_key   value should be [root,values,payload,commits]\"\"\"\n",
    "    column_level_analysis = (\".\").join(explode_key)\n",
    "    return  input_dataframe.select(f\"{explode_key[0]}.*\",F.explode_outer(F.col(column_level_analysis)).alias(column_level_analysis.replace(\".\",\"_\"))).drop(drop_column)\n",
    "\n",
    "\n",
    "def func_get_rdd_num_partitions( dataframe) :\n",
    "    return dataframe.rdd.getNumPartitions()\n",
    "\n",
    "def func_write_data_to_parquet ( file_path, dataframe,write_mode) :\n",
    "    dataframe.write.parquet(file_path,mode=write_mode)\n",
    "\n",
    "\n",
    "def func_read_parquet_file(file_path) :\n",
    "    return spark.read.parquet(file_path)\n",
    "\n",
    "def func_stop_spark () :\n",
    "      spark.stop()\n",
    "\n",
    "\n",
    "def func_remane_column_names (dataframe) :\n",
    "    column_list = [F.col(c).alias(c.replace('.', '_')) for c in dataframe.columns]\n",
    "    for   values in column_list:\n",
    "        print(values)\n",
    "    return  dataframe.select([F.col(c).alias(c.replace('.', '_')) for c in dataframe.columns])\n",
    "\n",
    "\n",
    "def  func_limit_rows_dataframe (dataframe, limit_row_count) :\n",
    "    return dataframe. limit(limit_row_count)\n",
    "\n",
    "def  finc_count_dft_rows(dataframe):\n",
    "     return dataframe.count()\n",
    "\n"
   ]
  },
  {
   "cell_type": "code",
   "execution_count": 5,
   "metadata": {},
   "outputs": [],
   "source": [
    "\n",
    "def func_main () :\n",
    "     processed_dft_row_count= 0 \n",
    "     for file_list in input_file_list :\n",
    "         big_dpart_dft = func_json_dataframe (input_json_file_path+file_list)\n",
    "         big_dpart_dft = func_repartion_dataframe(big_dpart_dft,100)\n",
    "         big_dpart_dft_json_normalised = func_explode_based_on_one_key (big_dpart_dft,\"values\",\"table_example\")\n",
    "         big_dpart_dft_json_normalised = func_explode_based_on_depper_root_key(big_dpart_dft_json_normalised,[\"table_example\",\"entities\"],\"entities\")\n",
    "         func_cache_dft_data(big_dpart_dft_json_normalised)\n",
    "         print(func_get_rdd_num_partitions(big_dpart_dft_json_normalised))\n",
    "         big_dpart_dft_json_norm_renamed  = func_remane_column_names(big_dpart_dft_json_normalised)\n",
    "         processed_dft_row_count += finc_count_dft_rows(big_dpart_dft_json_norm_renamed)\n",
    "         func_write_data_to_parquet(parquet_file_path,big_dpart_dft_json_norm_renamed,\"append\")\n",
    "     return processed_dft_row_count"
   ]
  },
  {
   "cell_type": "code",
   "execution_count": null,
   "metadata": {},
   "outputs": [],
   "source": [
    "try :\n",
    "    # json_input_row_count  = func_main () \n",
    "    big_dpart_parquet = func_read_parquet_file(parquet_file_path)\n",
    "    # parquet_row_count  = finc_count_dft_rows(big_dpart_parquet)\n",
    "    # big_dpart_parquet = func_limit_rows_dataframe(big_dpart_parquet,100)\n",
    "    big_dpart_parquet.show()\n",
    "except  Exception as error :\n",
    "    spark.stop()\n",
    "    raise error "
   ]
  },
  {
   "cell_type": "code",
   "execution_count": null,
   "metadata": {},
   "outputs": [],
   "source": [
    "db_url = \"jdbc:postgresql://host.docker.internal:5432/crime_data_la\"\n",
    "db_properties = {\n",
    "    \"user\": \"john_user\",\n",
    "    \"password\": \"abc@12345\"\n",
    "}\n",
    "\n",
    "table_name = \"crime_data.transactions_data\"\n",
    "df_table = spark.read.jdbc(url=db_url, table=table_name, properties=db_properties)\n",
    "df_table.show()\n"
   ]
  },
  {
   "cell_type": "code",
   "execution_count": null,
   "metadata": {},
   "outputs": [],
   "source": [
    "df_table.describe"
   ]
  },
  {
   "cell_type": "code",
   "execution_count": null,
   "metadata": {},
   "outputs": [],
   "source": [
    "big_dpart_parquet.select(big_dpart_parquet[\"table_example_entities\"])"
   ]
  },
  {
   "cell_type": "code",
   "execution_count": 3,
   "metadata": {},
   "outputs": [
    {
     "name": "stderr",
     "output_type": "stream",
     "text": [
      "                                                                                \r"
     ]
    },
    {
     "name": "stdout",
     "output_type": "stream",
     "text": [
      "['_c0', 'CASE_NUMBER', 'CASE_STATUS', 'CASE_SUBMITTED', 'DECISION_DATE', 'VISA_CLASS', 'EMPLOYMENT_START_DATE', 'EMPLOYMENT_END_DATE', 'EMPLOYER_NAME', 'EMPLOYER_BUSINESS_DBA', 'EMPLOYER_ADDRESS', 'EMPLOYER_CITY', 'EMPLOYER_STATE', 'EMPLOYER_POSTAL_CODE', 'EMPLOYER_COUNTRY', 'EMPLOYER_PROVINCE', 'EMPLOYER_PHONE', 'EMPLOYER_PHONE_EXT', 'AGENT_REPRESENTING_EMPLOYER', 'AGENT_ATTORNEY_NAME', 'AGENT_ATTORNEY_CITY', 'AGENT_ATTORNEY_STATE', 'JOB_TITLE', 'SOC_CODE', 'SOC_NAME', 'NAICS_CODE', 'TOTAL_WORKERS', 'NEW_EMPLOYMENT', 'CONTINUED_EMPLOYMENT', 'CHANGE_PREVIOUS_EMPLOYMENT', 'NEW_CONCURRENT_EMPLOYMENT', 'CHANGE_EMPLOYER', 'AMENDED_PETITION', 'FULL_TIME_POSITION', 'PREVAILING_WAGE', 'PW_UNIT_OF_PAY', 'PW_WAGE_LEVEL', 'PW_SOURCE', 'PW_SOURCE_YEAR', 'PW_SOURCE_OTHER', 'WAGE_RATE_OF_PAY_FROM', 'WAGE_RATE_OF_PAY_TO', 'WAGE_UNIT_OF_PAY', 'H1B_DEPENDENT', 'WILLFUL_VIOLATOR', 'SUPPORT_H1B', 'LABOR_CON_AGREE', 'PUBLIC_DISCLOSURE_LOCATION', 'WORKSITE_CITY', 'WORKSITE_COUNTY', 'WORKSITE_STATE', 'WORKSITE_POSTAL_CODE', 'ORIGINAL_CERT_DATE']\n"
     ]
    },
    {
     "name": "stderr",
     "output_type": "stream",
     "text": [
      "25/02/07 20:25:30 WARN package: Truncated the string representation of a plan since it was too large. This behavior can be adjusted by setting 'spark.sql.debug.maxToStringFields'.\n",
      "25/02/07 20:25:31 WARN CSVHeaderChecker: CSV header does not conform to the schema.\n",
      " Header: , CASE_NUMBER, CASE_STATUS, CASE_SUBMITTED, DECISION_DATE, VISA_CLASS, EMPLOYMENT_START_DATE, EMPLOYMENT_END_DATE, EMPLOYER_NAME, EMPLOYER_BUSINESS_DBA, EMPLOYER_ADDRESS, EMPLOYER_CITY, EMPLOYER_STATE, EMPLOYER_POSTAL_CODE, EMPLOYER_COUNTRY, EMPLOYER_PROVINCE, EMPLOYER_PHONE, EMPLOYER_PHONE_EXT, AGENT_REPRESENTING_EMPLOYER, AGENT_ATTORNEY_NAME, AGENT_ATTORNEY_CITY, AGENT_ATTORNEY_STATE, JOB_TITLE, SOC_CODE, SOC_NAME, NAICS_CODE, TOTAL_WORKERS, NEW_EMPLOYMENT, CONTINUED_EMPLOYMENT, CHANGE_PREVIOUS_EMPLOYMENT, NEW_CONCURRENT_EMPLOYMENT, CHANGE_EMPLOYER, AMENDED_PETITION, FULL_TIME_POSITION, PREVAILING_WAGE, PW_UNIT_OF_PAY, PW_WAGE_LEVEL, PW_SOURCE, PW_SOURCE_YEAR, PW_SOURCE_OTHER, WAGE_RATE_OF_PAY_FROM, WAGE_RATE_OF_PAY_TO, WAGE_UNIT_OF_PAY, H1B_DEPENDENT, WILLFUL_VIOLATOR, SUPPORT_H1B, LABOR_CON_AGREE, PUBLIC_DISCLOSURE_LOCATION, WORKSITE_CITY, WORKSITE_COUNTY, WORKSITE_STATE, WORKSITE_POSTAL_CODE, ORIGINAL_CERT_DATE\n",
      " Schema: _c0, CASE_NUMBER, CASE_STATUS, CASE_SUBMITTED, DECISION_DATE, VISA_CLASS, EMPLOYMENT_START_DATE, EMPLOYMENT_END_DATE, EMPLOYER_NAME, EMPLOYER_BUSINESS_DBA, EMPLOYER_ADDRESS, EMPLOYER_CITY, EMPLOYER_STATE, EMPLOYER_POSTAL_CODE, EMPLOYER_COUNTRY, EMPLOYER_PROVINCE, EMPLOYER_PHONE, EMPLOYER_PHONE_EXT, AGENT_REPRESENTING_EMPLOYER, AGENT_ATTORNEY_NAME, AGENT_ATTORNEY_CITY, AGENT_ATTORNEY_STATE, JOB_TITLE, SOC_CODE, SOC_NAME, NAICS_CODE, TOTAL_WORKERS, NEW_EMPLOYMENT, CONTINUED_EMPLOYMENT, CHANGE_PREVIOUS_EMPLOYMENT, NEW_CONCURRENT_EMPLOYMENT, CHANGE_EMPLOYER, AMENDED_PETITION, FULL_TIME_POSITION, PREVAILING_WAGE, PW_UNIT_OF_PAY, PW_WAGE_LEVEL, PW_SOURCE, PW_SOURCE_YEAR, PW_SOURCE_OTHER, WAGE_RATE_OF_PAY_FROM, WAGE_RATE_OF_PAY_TO, WAGE_UNIT_OF_PAY, H1B_DEPENDENT, WILLFUL_VIOLATOR, SUPPORT_H1B, LABOR_CON_AGREE, PUBLIC_DISCLOSURE_LOCATION, WORKSITE_CITY, WORKSITE_COUNTY, WORKSITE_STATE, WORKSITE_POSTAL_CODE, ORIGINAL_CERT_DATE\n",
      "Expected: _c0 but found: \n",
      "CSV file: file:///root/docker_dataset/h1b_data/h1b17.csv\n"
     ]
    },
    {
     "name": "stdout",
     "output_type": "stream",
     "text": [
      "+---+------------------+-------------------+--------------+-------------+----------+---------------------+-------------------+--------------------+---------------------+--------------------+-------------+--------------+--------------------+--------------------+-----------------+--------------+------------------+---------------------------+-------------------+-------------------+--------------------+--------------------+--------+--------------------+----------+-------------+--------------+--------------------+--------------------------+-------------------------+---------------+----------------+------------------+---------------+--------------+-------------+---------+--------------+--------------------+---------------------+-------------------+----------------+-------------+----------------+-----------+---------------+--------------------------+-------------+---------------+--------------+--------------------+------------------+\n",
      "|_c0|       CASE_NUMBER|        CASE_STATUS|CASE_SUBMITTED|DECISION_DATE|VISA_CLASS|EMPLOYMENT_START_DATE|EMPLOYMENT_END_DATE|       EMPLOYER_NAME|EMPLOYER_BUSINESS_DBA|    EMPLOYER_ADDRESS|EMPLOYER_CITY|EMPLOYER_STATE|EMPLOYER_POSTAL_CODE|    EMPLOYER_COUNTRY|EMPLOYER_PROVINCE|EMPLOYER_PHONE|EMPLOYER_PHONE_EXT|AGENT_REPRESENTING_EMPLOYER|AGENT_ATTORNEY_NAME|AGENT_ATTORNEY_CITY|AGENT_ATTORNEY_STATE|           JOB_TITLE|SOC_CODE|            SOC_NAME|NAICS_CODE|TOTAL_WORKERS|NEW_EMPLOYMENT|CONTINUED_EMPLOYMENT|CHANGE_PREVIOUS_EMPLOYMENT|NEW_CONCURRENT_EMPLOYMENT|CHANGE_EMPLOYER|AMENDED_PETITION|FULL_TIME_POSITION|PREVAILING_WAGE|PW_UNIT_OF_PAY|PW_WAGE_LEVEL|PW_SOURCE|PW_SOURCE_YEAR|     PW_SOURCE_OTHER|WAGE_RATE_OF_PAY_FROM|WAGE_RATE_OF_PAY_TO|WAGE_UNIT_OF_PAY|H1B_DEPENDENT|WILLFUL_VIOLATOR|SUPPORT_H1B|LABOR_CON_AGREE|PUBLIC_DISCLOSURE_LOCATION|WORKSITE_CITY|WORKSITE_COUNTY|WORKSITE_STATE|WORKSITE_POSTAL_CODE|ORIGINAL_CERT_DATE|\n",
      "+---+------------------+-------------------+--------------+-------------+----------+---------------------+-------------------+--------------------+---------------------+--------------------+-------------+--------------+--------------------+--------------------+-----------------+--------------+------------------+---------------------------+-------------------+-------------------+--------------------+--------------------+--------+--------------------+----------+-------------+--------------+--------------------+--------------------------+-------------------------+---------------+----------------+------------------+---------------+--------------+-------------+---------+--------------+--------------------+---------------------+-------------------+----------------+-------------+----------------+-----------+---------------+--------------------------+-------------+---------------+--------------+--------------------+------------------+\n",
      "|  0|I-200-16055-173457|CERTIFIED-WITHDRAWN|    2016-02-24|   2016-10-01|      H-1B|           2016-08-10|         2019-08-10|DISCOVER PRODUCTS...|                 null| 2500 LAKE COOK ROAD|   RIVERWOODS|            IL|               60015|UNITED STATES OF ...|             null|    2244050900|              null|                          Y|    ELLSWORTH, CHAD|           NEW YORK|                  NY|ASSOCIATE DATA IN...| 15-1121|COMPUTER SYSTEMS ...|    522210|            1|             1|                   0|                         0|                        0|              0|               0|                 Y|        59197.0|          Year|      Level I|      OES|        2015.0|OFLC ONLINE DATA ...|              65811.0|            67320.0|            Year|            N|               N|       null|              Y|                      null|   RIVERWOODS|           LAKE|            IL|               60015|        2016-03-01|\n",
      "|  1|I-200-16064-557834|CERTIFIED-WITHDRAWN|    2016-03-04|   2016-10-01|      H-1B|           2016-08-16|         2019-08-16|    DFS SERVICES LLC|                 null| 2500 LAKE COOK ROAD|   RIVERWOODS|            IL|               60015|UNITED STATES OF ...|             null|    2244050900|              null|                          Y|    ELLSWORTH, CHAD|           NEW YORK|                  NY|    SENIOR ASSOCIATE| 15-2031|OPERATIONS RESEAR...|    522210|            1|             1|                   0|                         0|                        0|              0|               0|                 Y|        49800.0|          Year|         null|    Other|        2015.0|TOWERS WATSON DAT...|              53000.0|            57200.0|            Year|            N|               N|       null|              Y|                      null|   RIVERWOODS|           LAKE|            IL|               60015|        2016-03-08|\n",
      "|  2|I-200-16063-996093|CERTIFIED-WITHDRAWN|    2016-03-10|   2016-10-01|      H-1B|           2016-09-09|         2019-09-09|EASTBANC TECHNOLO...|                 null|    1211 31ST ST. NW|   WASHINGTON|            DC|               20007|UNITED STATES OF ...|             null|    2022953000|              null|                          Y|       BURKE, KAREN|         WASHINGTON|                  DC|.NET SOFTWARE PRO...| 15-1131|COMPUTER PROGRAMMERS|    541511|            2|             2|                   0|                         0|                        0|              0|               0|                 Y|        76502.0|          Year|     Level II|      OES|        2015.0|OFLC ONLINE DATA ...|              77000.0|                0.0|            Year|            Y|               N|          Y|           null|                      null|   WASHINGTON|           null|            DC|               20007|        2016-03-16|\n",
      "|  3|I-200-16272-196340|          WITHDRAWN|    2016-09-28|   2016-10-01|      H-1B|           2017-01-26|         2020-01-25|   INFO SERVICES LLC|                 null|17177 NORTH LAURE...|      LIVONIA|            MI|               48152|UNITED STATES OF ...|             null|    7343776007|              null|                          N|                  ,|               null|                null|     PROJECT MANAGER| 15-1199|COMPUTER OCCUPATI...|    541511|            1|             1|                   0|                         0|                        0|              0|               0|                 Y|        90376.0|          Year|    Level III|      OES|        2016.0|OFLC ONLINE DATA ...|             102000.0|                0.0|            Year|            Y|               N|          Y|           null|                      null|  JERSEY CITY|         HUDSON|            NJ|               07302|              null|\n",
      "|  4|I-200-15053-636744|CERTIFIED-WITHDRAWN|    2015-02-22|   2016-10-02|      H-1B|           2015-03-01|         2018-03-01|    BB&T CORPORATION|                 null|223 WEST NASH STREET|       WILSON|            NC|               27893|UNITED STATES OF ...|             null|    2522462031|              null|                          Y|   SCOFIELD, EILEEN|            ATLANTA|                  GA|ASSOCIATE - ESOTE...| 13-2041|     CREDIT ANALYSTS|    522110|            1|             0|                   0|                         0|                        0|              1|               0|                 Y|       116605.0|          Year|    Level III|      OES|        2015.0|OFLC ONLINE DATA ...|             132500.0|                0.0|            Year|            N|               N|       null|              Y|                      null|     NEW YORK|       NEW YORK|            NY|               10036|        2015-02-26|\n",
      "|  5|I-200-15071-336195|CERTIFIED-WITHDRAWN|    2015-03-12|   2016-10-02|      H-1B|           2015-09-11|         2018-09-11|SUNTRUST BANKS, INC.|                 null|303 PEACHTREE STR...|      ATLANTA|            GA|               30308|UNITED STATES OF ...|             null|    4048137888|              null|                          Y|   SCOFIELD, EILEEN|            ATLANTA|                  GA|CREDIT RISK METRI...| 13-2099|FINANCIAL SPECIAL...|    522110|            1|             1|                   0|                         0|                        0|              0|               0|                 Y|        59405.0|          Year|    Level III|      OES|        2015.0|OFLC ONLINE DATA ...|              71750.0|                0.0|            Year|            N|               N|       null|              Y|                      null|      ATLANTA|         FULTON|            GA|               30303|        2015-03-18|\n",
      "|  6|I-200-16056-842817|CERTIFIED-WITHDRAWN|    2016-02-25|   2016-10-02|      H-1B|           2016-08-25|         2019-08-24|CITADEL INFORMATI...|              CITADEL|33 WOOD AVENUE SOUTH|       ISELIN|            NJ|               08830|UNITED STATES OF ...|             null|    7322380072|              null|                          N|                  ,|               null|                null|BUSINESS SYSTEMS ...| 13-1111| MANAGEMENT ANALYSTS|    541511|            1|             1|                   0|                         0|                        0|              0|               0|                 Y|        52915.0|          Year|      Level I|    Other|        2015.0| ONLINE WAGE LIBRARY|              61000.0|                0.0|            Year|            Y|               N|          Y|              Y|                      null|       EDISON|      MIDDLESEX|            NJ|               08837|        2016-03-02|\n",
      "|  7|I-200-16056-757335|CERTIFIED-WITHDRAWN|    2016-02-25|   2016-10-02|      H-1B|           2016-08-26|         2019-08-25|CITADEL INFORMATI...|              CITADEL|33 WOOD AVENUE SOUTH|       ISELIN|            NJ|               08830|UNITED STATES OF ...|             null|    7322380072|              null|                          N|                  ,|               null|                null|  PROGRAMMER ANALYST| 15-1131|COMPUTER PROGRAMMERS|    541511|            1|             1|                   0|                         0|                        0|              0|               0|                 Y|        51730.0|          Year|      Level I|    Other|        2015.0| ONLINE WAGE LIBRARY|              60500.0|                0.0|            Year|            Y|               N|          Y|              Y|                      null|       EDISON|      MIDDLESEX|            NJ|               08837|        2016-03-02|\n",
      "|  8|I-200-16058-469533|CERTIFIED-WITHDRAWN|    2016-02-27|   2016-10-02|      H-1B|           2016-08-26|         2019-08-25|CITADEL INFORMATI...|              CITADEL|33 WOOD AVENUE SOUTH|       ISELIN|            NJ|               08830|UNITED STATES OF ...|             null|    7322380072|              null|                          N|                  ,|               null|                null|  PROGRAMMER ANALYST| 15-1131|COMPUTER PROGRAMMERS|    541511|            1|             1|                   0|                         0|                        0|              0|               0|                 Y|        58053.0|          Year|      Level I|    Other|        2015.0| ONLINE WAGE LIBRARY|              60450.0|                0.0|            Year|            Y|               N|          Y|              Y|                      null|     NEW YORK|       NEW YORK|            NY|               10005|        2016-03-03|\n",
      "|  9|I-200-16059-084066|CERTIFIED-WITHDRAWN|    2016-02-28|   2016-10-02|      H-1B|           2016-08-29|         2019-08-26|CITADEL INFORMATI...|              CITADEL|33 WOOD AVENUE SOUTH|       ISELIN|            NJ|               08830|UNITED STATES OF ...|             null|    7322380072|              null|                          N|                  ,|               null|                null|MARKET RESEARCH A...| 13-1161|MARKET RESEARCH A...|    541511|            1|             1|                   0|                         0|                        0|              0|               0|                 Y|        46821.0|          Year|      Level I|    Other|        2015.0| ONLINE WAGE LIBRARY|              50000.0|                0.0|            Year|            Y|               N|          Y|              Y|                      null|       ISELIN|      MIDDLESEX|            NJ|               08830|        2016-03-03|\n",
      "| 10|I-200-16060-138258|CERTIFIED-WITHDRAWN|    2016-02-29|   2016-10-02|      H-1B|           2016-08-29|         2019-08-29|CITADEL INFORMATI...|              CITADEL|33 WOOD AVENUE SOUTH|       ISELIN|            NJ|               08830|UNITED STATES OF ...|             null|    7322380072|              null|                          N|                  ,|               null|                null|  PROGRAMMER ANALYST| 15-1131|COMPUTER PROGRAMMERS|    541511|            1|             1|                   0|                         0|                        0|              0|               0|                 Y|        58053.0|          Year|      Level I|    Other|        2015.0| ONLINE WAGE LIBRARY|              60400.0|                0.0|            Year|            Y|               N|          Y|              Y|                      null|     NEW YORK|       NEW YORK|            NY|               10010|        2016-03-04|\n",
      "| 11|I-200-16083-623465|CERTIFIED-WITHDRAWN|    2016-03-23|   2016-10-02|      H-1B|           2016-09-22|         2019-09-20|ADVANCED TECHNOLO...|                 null|   666 PLAINSBORO RD|   PLAINSBORO|            NJ|               08536|UNITED STATES OF ...|             null|    6092695555|              null|                          N|                  ,|               null|                null|    BUSINESS ANALYST| 15-1131|COMPUTER PROGRAMMERS|    541511|            1|             1|                   0|                         0|                        0|              0|               0|                 Y|        63170.0|          Year|      Level I|    Other|        2015.0| ONLINE WAGE LIBRARY|              63200.0|                0.0|            Year|            Y|               N|          Y|              Y|                      null|    PRINCETON|         MERCER|            NJ|               08540|        2016-03-29|\n",
      "| 12|I-200-16083-782891|CERTIFIED-WITHDRAWN|    2016-03-23|   2016-10-02|      H-1B|           2016-09-22|         2019-09-20|ADVANCED TECHNOLO...|                 null|   666 PLAINSBORO RD|   PLAINSBORO|            NJ|               08536|UNITED STATES OF ...|             null|    6092695555|              null|                          N|                  ,|               null|                null|SAP BASIS ADMINIS...| 15-1131|COMPUTER PROGRAMMERS|    541511|            1|             1|                   0|                         0|                        0|              0|               0|                 Y|        51730.0|          Year|      Level I|    Other|        2015.0| ONLINE WAGE LIBRARY|              60100.0|                0.0|            Year|            Y|               N|          Y|              Y|                      null|NEW BRUNSWICK|      MIDDLESEX|            NJ|               08901|        2016-03-29|\n",
      "| 13|I-200-16083-651459|CERTIFIED-WITHDRAWN|    2016-03-23|   2016-10-02|      H-1B|           2016-09-22|         2019-09-20|ADVANCED TECHNOLO...|                 null|   666 PLAINSBORO RD|   PLAINSBORO|            NJ|               08536|UNITED STATES OF ...|             null|    6092695555|              null|                          N|                  ,|               null|                null|  SOFTWARE DEVELOPER| 15-1132|SOFTWARE DEVELOPE...|    541511|            1|             1|                   0|                         0|                        0|              0|               0|                 Y|        63877.0|          Year|      Level I|    Other|        2015.0| ONLINE WAGE LIBRARY|              64000.0|                0.0|            Year|            Y|               N|          Y|              Y|                      null|NEW BRUNSWICK|      MIDDLESEX|            NJ|               08901|        2016-03-29|\n",
      "| 14|I-200-16083-722720|CERTIFIED-WITHDRAWN|    2016-03-23|   2016-10-02|      H-1B|           2016-09-22|         2019-09-20|ADVANCED TECHNOLO...|                 null|   666 PLAINSBORO RD|   PLAINSBORO|            NJ|               08536|UNITED STATES OF ...|             null|    6092695555|              null|                          N|                  ,|               null|                null|ORACLE APPLICATIO...| 15-1131|COMPUTER PROGRAMMERS|    541511|            1|             1|                   0|                         0|                        0|              0|               0|                 Y|        51730.0|          Year|      Level I|    Other|        2015.0| ONLINE WAGE LIBRARY|              60000.0|                0.0|            Year|            Y|               N|          Y|              Y|                      null|NEW BRUNSWICK|      MIDDLESEX|            NJ|               08901|        2016-03-29|\n",
      "| 15|I-200-16084-911950|CERTIFIED-WITHDRAWN|    2016-03-24|   2016-10-02|      H-1B|           2016-09-23|         2019-09-20|ADVANCED TECHNOLO...|                 null|   666 PLAINSBORO RD|   PLAINSBORO|            NJ|               08536|UNITED STATES OF ...|             null|    6092695555|              null|                          N|                  ,|               null|                null|  SOFTWARE DEVELOPER| 15-1132|SOFTWARE DEVELOPE...|    541511|            1|             1|                   0|                         0|                        0|              0|               0|                 Y|        63877.0|          Year|      Level I|    Other|        2015.0| ONLINE WAGE LIBRARY|              65000.0|                0.0|            Year|            Y|               N|          Y|              Y|                      null|NEW BRUNSWICK|      MIDDLESEX|            NJ|               08901|        2016-03-30|\n",
      "| 16|I-200-16276-853235|          WITHDRAWN|    2016-10-02|   2016-10-02|      H-1B|           2016-10-08|         2019-10-07|            ITAS INC|                 null|8888  KEYSTONE CR...| INDIANAPOLIS|            IN|               46240|UNITED STATES OF ...|             null|    3175758950|              null|                          Y|        SHAH, JATIN|       INDIANAPOLIS|                  IN|COMPUTER SYSTEM A...| 15-1121|COMPUTER SYSTEMS ...|    541519|            1|             0|                   0|                         0|                        0|              1|               0|                 Y|        54600.0|          Year|      Level I|      OES|        2016.0|OFLC ONLINE DATA ...|              55000.0|                0.0|            Year|            N|               N|       null|              Y|                      null|     MELVILLE|        SUFFOLK|            NY|               11747|              null|\n",
      "| 17|I-200-13260-552852|CERTIFIED-WITHDRAWN|    2013-09-17|   2016-10-03|      H-1B|           2013-12-02|         2016-12-01|            BATTELLE|                 null|   902 BATTELLE BLVD|     RICHLAND|            WA|               99354|UNITED STATES OF ...|             null|    5093753959|              null|                          N|                  ,|               null|                null|POST DOCTORATE RE...| 19-1029|BIOLOGICAL SCIENT...|    541700|            1|             1|                   0|                         0|                        0|              0|               0|                 Y|        39853.0|          Year|      Level I|    Other|        2013.0|FOREIGN LABOR CER...|              60000.0|                0.0|            Year|            N|               N|       null|              Y|                      null|     RICHLAND|         BENTON|            WA|               99354|        2013-09-26|\n",
      "| 18|I-200-13261-450672|CERTIFIED-WITHDRAWN|    2013-09-18|   2016-10-03|      H-1B|           2013-10-14|         2016-10-13|HARMONY SCIENCE A...|                 null|9431 W SAM HOUSTO...|      HOUSTON|            TX|               77099|UNITED STATES OF ...|             null|    7134920214|              null|                          N|                  ,|               null|                null|     SCIENCE TEACHER| 25-2031|SECONDARY SCHOOL ...|    611110|            1|             0|                   1|                         0|                        0|              0|               0|                 Y|        43110.0|          Year|      Level I|      OES|        2013.0|OFLC ONLINE DATA ...|              43110.0|                0.0|            Year|            N|               N|       null|              Y|                      null|      HOUSTON|         HARRIS|            TX|               77099|        2013-09-24|\n",
      "| 19|I-200-13261-428354|CERTIFIED-WITHDRAWN|    2013-09-18|   2016-10-03|      H-1B|           2013-10-25|         2016-10-24|HARMONY SCIENCE A...|                 null|1900 N VALLEY MIL...|         WACO|            TX|               76710|UNITED STATES OF ...|             null|    2547517878|              null|                          N|                  ,|               null|                null|FOREIGN LANGUAGE ...| 25-2031|SECONDARY SCHOOL ...|    611110|            1|             0|                   1|                         0|                        0|              0|               0|                 Y|        38970.0|          Year|      Level I|      OES|        2013.0|OFLC ONLINE DATA ...|              38970.0|                0.0|            Year|            N|               N|       null|              Y|                      null|         WACO|       MCLENNAN|            TX|               76710|        2013-09-25|\n",
      "+---+------------------+-------------------+--------------+-------------+----------+---------------------+-------------------+--------------------+---------------------+--------------------+-------------+--------------+--------------------+--------------------+-----------------+--------------+------------------+---------------------------+-------------------+-------------------+--------------------+--------------------+--------+--------------------+----------+-------------+--------------+--------------------+--------------------------+-------------------------+---------------+----------------+------------------+---------------+--------------+-------------+---------+--------------+--------------------+---------------------+-------------------+----------------+-------------+----------------+-----------+---------------+--------------------------+-------------+---------------+--------------+--------------------+------------------+\n",
      "only showing top 20 rows\n",
      "\n"
     ]
    }
   ],
   "source": [
    "from pyspark.sql import SparkSession\n",
    "\n",
    "# Initialize SparkSession\n",
    "spark = SparkSession.builder \\\n",
    "    .appName(\"Read CSV with PySpark\") \\\n",
    "    .getOrCreate()\n",
    "\n",
    "# Define the file path\n",
    "file_path = '/root/docker_dataset/h1b_data/h1b17.csv'\n",
    "\n",
    "# Read the CSV file into a DataFrame\n",
    "df = spark.read.csv(file_path, header=True, inferSchema=True)\n",
    "\n",
    "# List of columns to exclude\n",
    "exclude_columns = ['column_to_exclude1', 'column_to_exclude2']\n",
    "\n",
    "# Select only the columns you want to keep\n",
    "selected_columns = [col for col in df.columns if col not in exclude_columns]\n",
    "\n",
    "print(selected_columns)\n",
    "df_selected = df.select(*selected_columns)\n",
    "\n",
    "# Show the resulting DataFrame\n",
    "df_selected.show()"
   ]
  }
 ],
 "metadata": {
  "kernelspec": {
   "display_name": "pyspark_learning_venv",
   "language": "python",
   "name": "python3"
  },
  "language_info": {
   "codemirror_mode": {
    "name": "ipython",
    "version": 3
   },
   "file_extension": ".py",
   "mimetype": "text/x-python",
   "name": "python",
   "nbconvert_exporter": "python",
   "pygments_lexer": "ipython3",
   "version": "3.12.3"
  }
 },
 "nbformat": 4,
 "nbformat_minor": 2
}
